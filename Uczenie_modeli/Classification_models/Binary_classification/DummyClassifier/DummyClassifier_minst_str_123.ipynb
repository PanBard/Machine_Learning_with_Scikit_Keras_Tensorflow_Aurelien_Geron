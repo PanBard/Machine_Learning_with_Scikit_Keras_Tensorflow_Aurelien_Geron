{
 "cells": [
  {
   "cell_type": "code",
   "execution_count": 4,
   "id": "bc72858b-3b7e-479a-953f-b14c8e7b4e49",
   "metadata": {},
   "outputs": [
    {
     "name": "stdout",
     "output_type": "stream",
     "text": [
      "dict_keys(['data', 'target', 'frame', 'categories', 'feature_names', 'target_names', 'DESCR', 'details', 'url'])\n"
     ]
    }
   ],
   "source": [
    "from sklearn.datasets import fetch_openml\n",
    "mnist = fetch_openml('mnist_784', as_frame=False)\n",
    "print(mnist.keys() )\n",
    "X, y = mnist.data, mnist.target\n",
    "X_train, X_test, y_train, y_test = X[:60000], X[60000:], y[:60000], y[60000:]\n",
    "choosed_number = '5'\n",
    "\n",
    "y_train_5 = (y_train == choosed_number)  # True for all 5s, False for all other digits\n",
    "y_test_5 = (y_test == choosed_number)"
   ]
  },
  {
   "cell_type": "markdown",
   "id": "72c2935a-0663-40b9-ad0c-1bedc1299690",
   "metadata": {},
   "source": [
    "# DummyClassifier\n",
    "DummyClassifier z biblioteki scikit-learn to prosty klasyfikator, który służy jako punkt odniesienia lub \"dummy\" model. Nie uczy się on danych, lecz zamiast tego dokonuje predykcji na podstawie prostych strategii lub reguł. Celem używania DummyClassifier jest zapewnienie punktu porównawczego dla bardziej zaawansowanych modeli, aby można było ocenić, czy Twój zaawansowany klasyfikator działa lepiej niż losowe lub naiwnie oparte prognozy.\n",
    "\n",
    "Co robi DummyClassifier?\n",
    "Posiada kilka strategii generowania predykcji bez uczenia się na danych:\n",
    "\n",
    "- **strategy='most_frequent':** Ta strategia zawsze przewiduje najbardziej występującą klasę w zbiorze treningowym. Jeśli masz niezrównoważony zbiór danych, będzie przewidywać klasę większościową przez cały czas.\n",
    "- **strategy='stratified':** Ta strategia generuje losowe predykcje, które odpowiadają rozkładowi klas w zbiorze treningowym. Zapewnia, że rozkład przewidywanych klas odzwierciedla proporcje klas w danych treningowych.\n",
    "- **strategy='uniform':**  Ta strategia losowo przewiduje każdą klasę z równym prawdopodobieństwem, niezależnie od rozkładu klas w danych treningowych.\n",
    "- **strategy='constant':** Ta strategia zawsze przewiduje tę samą klasę, którą definiujesz za pomocą parametru constant. Może to być przydatne, jeśli chcesz, aby klasyfikator zawsze przewidywał określoną klasę.\n",
    "\n",
    "### Default Strategy: stratified\n",
    "strategy='stratified':\n",
    "This means that the classifier will generate random predictions that are proportional to the class distribution in the training data (y_train_5).\n",
    "For example, if the training labels contain 80% of class 0 and 20% of class 1, the DummyClassifier will randomly predict class 0 approximately 80% of the time and class 1 about 20% of the time."
   ]
  },
  {
   "cell_type": "code",
   "execution_count": 5,
   "id": "96acfec0-e722-4f0f-ace8-ac2018900c5c",
   "metadata": {},
   "outputs": [
    {
     "name": "stdout",
     "output_type": "stream",
     "text": [
      "False\n"
     ]
    }
   ],
   "source": [
    "from sklearn.dummy import DummyClassifier\n",
    "\n",
    "dummy_clf = DummyClassifier()\n",
    "dummy_clf.fit(X_train, y_train_5)\n",
    "print(any(dummy_clf.predict(X_train)))"
   ]
  },
  {
   "cell_type": "markdown",
   "id": "8aeabef7-3f45-47b0-9a3b-3a08f8c1520c",
   "metadata": {},
   "source": [
    "## Sprawdzian krzyżowy - cross_validation\n",
    "- robimy *cv=3* ilość foldów danych treningowych, czyli utworzone zostaną 3 modele, które będą testowane za każdym razem na innym foldzie danych, a na pozostałych dwóch będą trenowane"
   ]
  },
  {
   "cell_type": "code",
   "execution_count": 7,
   "id": "b8355a7e-6bc6-4346-809d-2b8ce8bb4e55",
   "metadata": {},
   "outputs": [
    {
     "data": {
      "text/plain": [
       "array([0.90965, 0.90965, 0.90965])"
      ]
     },
     "execution_count": 7,
     "metadata": {},
     "output_type": "execute_result"
    }
   ],
   "source": [
    "from sklearn.model_selection import cross_val_score\n",
    "cross_val_score(dummy_clf, X_train, y_train_5, cv=3, scoring=\"accuracy\")"
   ]
  }
 ],
 "metadata": {
  "kernelspec": {
   "display_name": "Python 3 (ipykernel)",
   "language": "python",
   "name": "python3"
  },
  "language_info": {
   "codemirror_mode": {
    "name": "ipython",
    "version": 3
   },
   "file_extension": ".py",
   "mimetype": "text/x-python",
   "name": "python",
   "nbconvert_exporter": "python",
   "pygments_lexer": "ipython3",
   "version": "3.12.3"
  }
 },
 "nbformat": 4,
 "nbformat_minor": 5
}
