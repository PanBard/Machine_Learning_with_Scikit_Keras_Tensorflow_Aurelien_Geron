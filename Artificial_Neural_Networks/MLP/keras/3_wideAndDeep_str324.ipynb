{
 "cells": [
  {
   "cell_type": "markdown",
   "id": "24048b67-7b7c-46d6-a74c-165a21b2c99a",
   "metadata": {},
   "source": [
    "## Building Complex Models Using the Functional API"
   ]
  },
  {
   "cell_type": "code",
   "execution_count": 1,
   "id": "e63c729e-a5eb-4674-be11-de78a90107dc",
   "metadata": {},
   "outputs": [],
   "source": [
    "from sklearn.datasets import fetch_california_housing\n",
    "from sklearn.model_selection import train_test_split\n",
    "from sklearn.neural_network import MLPRegressor\n",
    "from sklearn.pipeline import make_pipeline\n",
    "from sklearn.preprocessing import StandardScaler\n"
   ]
  },
  {
   "cell_type": "code",
   "execution_count": 2,
   "id": "e1320c01-8ea8-4064-bd4b-34d7f427c7ce",
   "metadata": {},
   "outputs": [],
   "source": [
    "# extra code – load and split the California housing dataset, like earlier\n",
    "housing = fetch_california_housing()\n",
    "X_train_full, X_test, y_train_full, y_test = train_test_split(housing.data, housing.target, random_state=42)\n",
    "X_train, X_valid, y_train, y_valid = train_test_split(X_train_full, y_train_full, random_state=42)"
   ]
  },
  {
   "cell_type": "code",
   "execution_count": 6,
   "id": "0d908722-4a52-421b-a0d1-5bfbcdc4ad3c",
   "metadata": {},
   "outputs": [],
   "source": [
    "import tensorflow as tf\n",
    "\n",
    "tf.keras.backend.clear_session() # reset the name counters and make the code reproducible\n",
    "tf.random.set_seed(42)"
   ]
  },
  {
   "cell_type": "code",
   "execution_count": 7,
   "id": "10f2d43a-2567-4ac6-bc6d-390e85f2f479",
   "metadata": {
    "scrolled": true
   },
   "outputs": [
    {
     "data": {
      "text/html": [
       "<pre style=\"white-space:pre;overflow-x:auto;line-height:normal;font-family:Menlo,'DejaVu Sans Mono',consolas,'Courier New',monospace\"><span style=\"font-weight: bold\">Model: \"functional\"</span>\n",
       "</pre>\n"
      ],
      "text/plain": [
       "\u001b[1mModel: \"functional\"\u001b[0m\n"
      ]
     },
     "metadata": {},
     "output_type": "display_data"
    },
    {
     "data": {
      "text/html": [
       "<pre style=\"white-space:pre;overflow-x:auto;line-height:normal;font-family:Menlo,'DejaVu Sans Mono',consolas,'Courier New',monospace\">┏━━━━━━━━━━━━━━━━━━━━━┳━━━━━━━━━━━━━━━━━━━┳━━━━━━━━━━━━┳━━━━━━━━━━━━━━━━━━━┓\n",
       "┃<span style=\"font-weight: bold\"> Layer (type)        </span>┃<span style=\"font-weight: bold\"> Output Shape      </span>┃<span style=\"font-weight: bold\">    Param # </span>┃<span style=\"font-weight: bold\"> Connected to      </span>┃\n",
       "┡━━━━━━━━━━━━━━━━━━━━━╇━━━━━━━━━━━━━━━━━━━╇━━━━━━━━━━━━╇━━━━━━━━━━━━━━━━━━━┩\n",
       "│ input_layer         │ (<span style=\"color: #00d7ff; text-decoration-color: #00d7ff\">None</span>, <span style=\"color: #00af00; text-decoration-color: #00af00\">8</span>)         │          <span style=\"color: #00af00; text-decoration-color: #00af00\">0</span> │ -                 │\n",
       "│ (<span style=\"color: #0087ff; text-decoration-color: #0087ff\">InputLayer</span>)        │                   │            │                   │\n",
       "├─────────────────────┼───────────────────┼────────────┼───────────────────┤\n",
       "│ normalization       │ (<span style=\"color: #00d7ff; text-decoration-color: #00d7ff\">None</span>, <span style=\"color: #00af00; text-decoration-color: #00af00\">8</span>)         │         <span style=\"color: #00af00; text-decoration-color: #00af00\">17</span> │ input_layer[<span style=\"color: #00af00; text-decoration-color: #00af00\">0</span>][<span style=\"color: #00af00; text-decoration-color: #00af00\">0</span>] │\n",
       "│ (<span style=\"color: #0087ff; text-decoration-color: #0087ff\">Normalization</span>)     │                   │            │                   │\n",
       "├─────────────────────┼───────────────────┼────────────┼───────────────────┤\n",
       "│ dense (<span style=\"color: #0087ff; text-decoration-color: #0087ff\">Dense</span>)       │ (<span style=\"color: #00d7ff; text-decoration-color: #00d7ff\">None</span>, <span style=\"color: #00af00; text-decoration-color: #00af00\">30</span>)        │        <span style=\"color: #00af00; text-decoration-color: #00af00\">270</span> │ normalization[<span style=\"color: #00af00; text-decoration-color: #00af00\">0</span>]… │\n",
       "├─────────────────────┼───────────────────┼────────────┼───────────────────┤\n",
       "│ dense_1 (<span style=\"color: #0087ff; text-decoration-color: #0087ff\">Dense</span>)     │ (<span style=\"color: #00d7ff; text-decoration-color: #00d7ff\">None</span>, <span style=\"color: #00af00; text-decoration-color: #00af00\">30</span>)        │        <span style=\"color: #00af00; text-decoration-color: #00af00\">930</span> │ dense[<span style=\"color: #00af00; text-decoration-color: #00af00\">0</span>][<span style=\"color: #00af00; text-decoration-color: #00af00\">0</span>]       │\n",
       "├─────────────────────┼───────────────────┼────────────┼───────────────────┤\n",
       "│ concatenate         │ (<span style=\"color: #00d7ff; text-decoration-color: #00d7ff\">None</span>, <span style=\"color: #00af00; text-decoration-color: #00af00\">38</span>)        │          <span style=\"color: #00af00; text-decoration-color: #00af00\">0</span> │ normalization[<span style=\"color: #00af00; text-decoration-color: #00af00\">0</span>]… │\n",
       "│ (<span style=\"color: #0087ff; text-decoration-color: #0087ff\">Concatenate</span>)       │                   │            │ dense_1[<span style=\"color: #00af00; text-decoration-color: #00af00\">0</span>][<span style=\"color: #00af00; text-decoration-color: #00af00\">0</span>]     │\n",
       "├─────────────────────┼───────────────────┼────────────┼───────────────────┤\n",
       "│ dense_2 (<span style=\"color: #0087ff; text-decoration-color: #0087ff\">Dense</span>)     │ (<span style=\"color: #00d7ff; text-decoration-color: #00d7ff\">None</span>, <span style=\"color: #00af00; text-decoration-color: #00af00\">1</span>)         │         <span style=\"color: #00af00; text-decoration-color: #00af00\">39</span> │ concatenate[<span style=\"color: #00af00; text-decoration-color: #00af00\">0</span>][<span style=\"color: #00af00; text-decoration-color: #00af00\">0</span>] │\n",
       "└─────────────────────┴───────────────────┴────────────┴───────────────────┘\n",
       "</pre>\n"
      ],
      "text/plain": [
       "┏━━━━━━━━━━━━━━━━━━━━━┳━━━━━━━━━━━━━━━━━━━┳━━━━━━━━━━━━┳━━━━━━━━━━━━━━━━━━━┓\n",
       "┃\u001b[1m \u001b[0m\u001b[1mLayer (type)       \u001b[0m\u001b[1m \u001b[0m┃\u001b[1m \u001b[0m\u001b[1mOutput Shape     \u001b[0m\u001b[1m \u001b[0m┃\u001b[1m \u001b[0m\u001b[1m   Param #\u001b[0m\u001b[1m \u001b[0m┃\u001b[1m \u001b[0m\u001b[1mConnected to     \u001b[0m\u001b[1m \u001b[0m┃\n",
       "┡━━━━━━━━━━━━━━━━━━━━━╇━━━━━━━━━━━━━━━━━━━╇━━━━━━━━━━━━╇━━━━━━━━━━━━━━━━━━━┩\n",
       "│ input_layer         │ (\u001b[38;5;45mNone\u001b[0m, \u001b[38;5;34m8\u001b[0m)         │          \u001b[38;5;34m0\u001b[0m │ -                 │\n",
       "│ (\u001b[38;5;33mInputLayer\u001b[0m)        │                   │            │                   │\n",
       "├─────────────────────┼───────────────────┼────────────┼───────────────────┤\n",
       "│ normalization       │ (\u001b[38;5;45mNone\u001b[0m, \u001b[38;5;34m8\u001b[0m)         │         \u001b[38;5;34m17\u001b[0m │ input_layer[\u001b[38;5;34m0\u001b[0m][\u001b[38;5;34m0\u001b[0m] │\n",
       "│ (\u001b[38;5;33mNormalization\u001b[0m)     │                   │            │                   │\n",
       "├─────────────────────┼───────────────────┼────────────┼───────────────────┤\n",
       "│ dense (\u001b[38;5;33mDense\u001b[0m)       │ (\u001b[38;5;45mNone\u001b[0m, \u001b[38;5;34m30\u001b[0m)        │        \u001b[38;5;34m270\u001b[0m │ normalization[\u001b[38;5;34m0\u001b[0m]… │\n",
       "├─────────────────────┼───────────────────┼────────────┼───────────────────┤\n",
       "│ dense_1 (\u001b[38;5;33mDense\u001b[0m)     │ (\u001b[38;5;45mNone\u001b[0m, \u001b[38;5;34m30\u001b[0m)        │        \u001b[38;5;34m930\u001b[0m │ dense[\u001b[38;5;34m0\u001b[0m][\u001b[38;5;34m0\u001b[0m]       │\n",
       "├─────────────────────┼───────────────────┼────────────┼───────────────────┤\n",
       "│ concatenate         │ (\u001b[38;5;45mNone\u001b[0m, \u001b[38;5;34m38\u001b[0m)        │          \u001b[38;5;34m0\u001b[0m │ normalization[\u001b[38;5;34m0\u001b[0m]… │\n",
       "│ (\u001b[38;5;33mConcatenate\u001b[0m)       │                   │            │ dense_1[\u001b[38;5;34m0\u001b[0m][\u001b[38;5;34m0\u001b[0m]     │\n",
       "├─────────────────────┼───────────────────┼────────────┼───────────────────┤\n",
       "│ dense_2 (\u001b[38;5;33mDense\u001b[0m)     │ (\u001b[38;5;45mNone\u001b[0m, \u001b[38;5;34m1\u001b[0m)         │         \u001b[38;5;34m39\u001b[0m │ concatenate[\u001b[38;5;34m0\u001b[0m][\u001b[38;5;34m0\u001b[0m] │\n",
       "└─────────────────────┴───────────────────┴────────────┴───────────────────┘\n"
      ]
     },
     "metadata": {},
     "output_type": "display_data"
    },
    {
     "data": {
      "text/html": [
       "<pre style=\"white-space:pre;overflow-x:auto;line-height:normal;font-family:Menlo,'DejaVu Sans Mono',consolas,'Courier New',monospace\"><span style=\"font-weight: bold\"> Total params: </span><span style=\"color: #00af00; text-decoration-color: #00af00\">1,256</span> (4.91 KB)\n",
       "</pre>\n"
      ],
      "text/plain": [
       "\u001b[1m Total params: \u001b[0m\u001b[38;5;34m1,256\u001b[0m (4.91 KB)\n"
      ]
     },
     "metadata": {},
     "output_type": "display_data"
    },
    {
     "data": {
      "text/html": [
       "<pre style=\"white-space:pre;overflow-x:auto;line-height:normal;font-family:Menlo,'DejaVu Sans Mono',consolas,'Courier New',monospace\"><span style=\"font-weight: bold\"> Trainable params: </span><span style=\"color: #00af00; text-decoration-color: #00af00\">1,239</span> (4.84 KB)\n",
       "</pre>\n"
      ],
      "text/plain": [
       "\u001b[1m Trainable params: \u001b[0m\u001b[38;5;34m1,239\u001b[0m (4.84 KB)\n"
      ]
     },
     "metadata": {},
     "output_type": "display_data"
    },
    {
     "data": {
      "text/html": [
       "<pre style=\"white-space:pre;overflow-x:auto;line-height:normal;font-family:Menlo,'DejaVu Sans Mono',consolas,'Courier New',monospace\"><span style=\"font-weight: bold\"> Non-trainable params: </span><span style=\"color: #00af00; text-decoration-color: #00af00\">17</span> (72.00 B)\n",
       "</pre>\n"
      ],
      "text/plain": [
       "\u001b[1m Non-trainable params: \u001b[0m\u001b[38;5;34m17\u001b[0m (72.00 B)\n"
      ]
     },
     "metadata": {},
     "output_type": "display_data"
    }
   ],
   "source": [
    "normalization_layer = tf.keras.layers.Normalization()\n",
    "hidden_layer1 = tf.keras.layers.Dense(30, activation=\"relu\")\n",
    "hidden_layer2 = tf.keras.layers.Dense(30, activation=\"relu\")\n",
    "concat_layer = tf.keras.layers.Concatenate()\n",
    "output_layer = tf.keras.layers.Dense(1)\n",
    "\n",
    "input_ = tf.keras.layers.Input(shape=X_train.shape[1:])\n",
    "normalized = normalization_layer(input_)\n",
    "hidden1 = hidden_layer1(normalized)\n",
    "hidden2 = hidden_layer2(hidden1)\n",
    "concat = concat_layer([normalized, hidden2])\n",
    "output = output_layer(concat)\n",
    "\n",
    "model = tf.keras.Model(inputs=[input_], outputs=[output])\n",
    "model.summary()"
   ]
  },
  {
   "cell_type": "code",
   "execution_count": 8,
   "id": "2606de66-84f4-46a5-8876-85b124abca97",
   "metadata": {},
   "outputs": [
    {
     "name": "stdout",
     "output_type": "stream",
     "text": [
      "Epoch 1/20\n"
     ]
    },
    {
     "name": "stderr",
     "output_type": "stream",
     "text": [
      "/home/lm/.cache/pypoetry/virtualenvs/machine-learning-with-scikit-keras-tensorf-0Jocalh3-py3.12/lib/python3.12/site-packages/keras/src/models/functional.py:238: UserWarning: The structure of `inputs` doesn't match the expected structure.\n",
      "Expected: ['keras_tensor']\n",
      "Received: inputs=Tensor(shape=(None, 8))\n",
      "  warnings.warn(msg)\n"
     ]
    },
    {
     "name": "stdout",
     "output_type": "stream",
     "text": [
      "\u001b[1m363/363\u001b[0m \u001b[32m━━━━━━━━━━━━━━━━━━━━\u001b[0m\u001b[37m\u001b[0m \u001b[1m3s\u001b[0m 4ms/step - RootMeanSquaredError: 1.3556 - loss: 1.9436 - val_RootMeanSquaredError: 0.6802 - val_loss: 0.4627\n",
      "Epoch 2/20\n",
      "\u001b[1m363/363\u001b[0m \u001b[32m━━━━━━━━━━━━━━━━━━━━\u001b[0m\u001b[37m\u001b[0m \u001b[1m1s\u001b[0m 3ms/step - RootMeanSquaredError: 0.6826 - loss: 0.4674 - val_RootMeanSquaredError: 0.7872 - val_loss: 0.6197\n",
      "Epoch 3/20\n",
      "\u001b[1m363/363\u001b[0m \u001b[32m━━━━━━━━━━━━━━━━━━━━\u001b[0m\u001b[37m\u001b[0m \u001b[1m1s\u001b[0m 4ms/step - RootMeanSquaredError: 0.6324 - loss: 0.4004 - val_RootMeanSquaredError: 0.8936 - val_loss: 0.7985\n",
      "Epoch 4/20\n",
      "\u001b[1m363/363\u001b[0m \u001b[32m━━━━━━━━━━━━━━━━━━━━\u001b[0m\u001b[37m\u001b[0m \u001b[1m1s\u001b[0m 3ms/step - RootMeanSquaredError: 0.6172 - loss: 0.3812 - val_RootMeanSquaredError: 1.1417 - val_loss: 1.3035\n",
      "Epoch 5/20\n",
      "\u001b[1m363/363\u001b[0m \u001b[32m━━━━━━━━━━━━━━━━━━━━\u001b[0m\u001b[37m\u001b[0m \u001b[1m1s\u001b[0m 3ms/step - RootMeanSquaredError: 0.6087 - loss: 0.3706 - val_RootMeanSquaredError: 1.8669 - val_loss: 3.4853\n",
      "Epoch 6/20\n",
      "\u001b[1m363/363\u001b[0m \u001b[32m━━━━━━━━━━━━━━━━━━━━\u001b[0m\u001b[37m\u001b[0m \u001b[1m1s\u001b[0m 3ms/step - RootMeanSquaredError: 0.6060 - loss: 0.3674 - val_RootMeanSquaredError: 2.4292 - val_loss: 5.9008\n",
      "Epoch 7/20\n",
      "\u001b[1m363/363\u001b[0m \u001b[32m━━━━━━━━━━━━━━━━━━━━\u001b[0m\u001b[37m\u001b[0m \u001b[1m1s\u001b[0m 3ms/step - RootMeanSquaredError: 0.6046 - loss: 0.3658 - val_RootMeanSquaredError: 1.9608 - val_loss: 3.8447\n",
      "Epoch 8/20\n",
      "\u001b[1m363/363\u001b[0m \u001b[32m━━━━━━━━━━━━━━━━━━━━\u001b[0m\u001b[37m\u001b[0m \u001b[1m1s\u001b[0m 4ms/step - RootMeanSquaredError: 0.5979 - loss: 0.3576 - val_RootMeanSquaredError: 1.8291 - val_loss: 3.3457\n",
      "Epoch 9/20\n",
      "\u001b[1m363/363\u001b[0m \u001b[32m━━━━━━━━━━━━━━━━━━━━\u001b[0m\u001b[37m\u001b[0m \u001b[1m1s\u001b[0m 4ms/step - RootMeanSquaredError: 0.5892 - loss: 0.3474 - val_RootMeanSquaredError: 1.0798 - val_loss: 1.1660\n",
      "Epoch 10/20\n",
      "\u001b[1m363/363\u001b[0m \u001b[32m━━━━━━━━━━━━━━━━━━━━\u001b[0m\u001b[37m\u001b[0m \u001b[1m1s\u001b[0m 3ms/step - RootMeanSquaredError: 0.5809 - loss: 0.3376 - val_RootMeanSquaredError: 1.3597 - val_loss: 1.8489\n",
      "Epoch 11/20\n",
      "\u001b[1m363/363\u001b[0m \u001b[32m━━━━━━━━━━━━━━━━━━━━\u001b[0m\u001b[37m\u001b[0m \u001b[1m1s\u001b[0m 3ms/step - RootMeanSquaredError: 0.5773 - loss: 0.3335 - val_RootMeanSquaredError: 1.3165 - val_loss: 1.7331\n",
      "Epoch 12/20\n",
      "\u001b[1m363/363\u001b[0m \u001b[32m━━━━━━━━━━━━━━━━━━━━\u001b[0m\u001b[37m\u001b[0m \u001b[1m1s\u001b[0m 3ms/step - RootMeanSquaredError: 0.5756 - loss: 0.3314 - val_RootMeanSquaredError: 1.3556 - val_loss: 1.8377\n",
      "Epoch 13/20\n",
      "\u001b[1m363/363\u001b[0m \u001b[32m━━━━━━━━━━━━━━━━━━━━\u001b[0m\u001b[37m\u001b[0m \u001b[1m1s\u001b[0m 3ms/step - RootMeanSquaredError: 0.5720 - loss: 0.3274 - val_RootMeanSquaredError: 1.1260 - val_loss: 1.2679\n",
      "Epoch 14/20\n",
      "\u001b[1m363/363\u001b[0m \u001b[32m━━━━━━━━━━━━━━━━━━━━\u001b[0m\u001b[37m\u001b[0m \u001b[1m1s\u001b[0m 4ms/step - RootMeanSquaredError: 0.5681 - loss: 0.3229 - val_RootMeanSquaredError: 1.2400 - val_loss: 1.5376\n",
      "Epoch 15/20\n",
      "\u001b[1m363/363\u001b[0m \u001b[32m━━━━━━━━━━━━━━━━━━━━\u001b[0m\u001b[37m\u001b[0m \u001b[1m1s\u001b[0m 3ms/step - RootMeanSquaredError: 0.5660 - loss: 0.3205 - val_RootMeanSquaredError: 1.2287 - val_loss: 1.5097\n",
      "Epoch 16/20\n",
      "\u001b[1m363/363\u001b[0m \u001b[32m━━━━━━━━━━━━━━━━━━━━\u001b[0m\u001b[37m\u001b[0m \u001b[1m1s\u001b[0m 3ms/step - RootMeanSquaredError: 0.5650 - loss: 0.3193 - val_RootMeanSquaredError: 1.3700 - val_loss: 1.8770\n",
      "Epoch 17/20\n",
      "\u001b[1m363/363\u001b[0m \u001b[32m━━━━━━━━━━━━━━━━━━━━\u001b[0m\u001b[37m\u001b[0m \u001b[1m1s\u001b[0m 3ms/step - RootMeanSquaredError: 0.5638 - loss: 0.3180 - val_RootMeanSquaredError: 1.2123 - val_loss: 1.4696\n",
      "Epoch 18/20\n",
      "\u001b[1m363/363\u001b[0m \u001b[32m━━━━━━━━━━━━━━━━━━━━\u001b[0m\u001b[37m\u001b[0m \u001b[1m2s\u001b[0m 4ms/step - RootMeanSquaredError: 0.5614 - loss: 0.3153 - val_RootMeanSquaredError: 1.4446 - val_loss: 2.0870\n",
      "Epoch 19/20\n",
      "\u001b[1m363/363\u001b[0m \u001b[32m━━━━━━━━━━━━━━━━━━━━\u001b[0m\u001b[37m\u001b[0m \u001b[1m1s\u001b[0m 3ms/step - RootMeanSquaredError: 0.5620 - loss: 0.3159 - val_RootMeanSquaredError: 1.4401 - val_loss: 2.0738\n",
      "Epoch 20/20\n",
      "\u001b[1m363/363\u001b[0m \u001b[32m━━━━━━━━━━━━━━━━━━━━\u001b[0m\u001b[37m\u001b[0m \u001b[1m1s\u001b[0m 3ms/step - RootMeanSquaredError: 0.5610 - loss: 0.3148 - val_RootMeanSquaredError: 1.1687 - val_loss: 1.3658\n",
      "\u001b[1m162/162\u001b[0m \u001b[32m━━━━━━━━━━━━━━━━━━━━\u001b[0m\u001b[37m\u001b[0m \u001b[1m0s\u001b[0m 2ms/step - RootMeanSquaredError: 0.5529 - loss: 0.3058 \n"
     ]
    },
    {
     "ename": "NameError",
     "evalue": "name 'X_new' is not defined",
     "output_type": "error",
     "traceback": [
      "\u001b[31m---------------------------------------------------------------------------\u001b[39m",
      "\u001b[31mNameError\u001b[39m                                 Traceback (most recent call last)",
      "\u001b[36mCell\u001b[39m\u001b[36m \u001b[39m\u001b[32mIn[8]\u001b[39m\u001b[32m, line 7\u001b[39m\n\u001b[32m      4\u001b[39m history = model.fit(X_train, y_train, epochs=\u001b[32m20\u001b[39m,\n\u001b[32m      5\u001b[39m                     validation_data=(X_valid, y_valid))\n\u001b[32m      6\u001b[39m mse_test = model.evaluate(X_test, y_test)\n\u001b[32m----> \u001b[39m\u001b[32m7\u001b[39m y_pred = model.predict(\u001b[43mX_new\u001b[49m)\n",
      "\u001b[31mNameError\u001b[39m: name 'X_new' is not defined"
     ]
    }
   ],
   "source": [
    "optimizer = tf.keras.optimizers.Adam(learning_rate=1e-3)\n",
    "model.compile(loss=\"mse\", optimizer=optimizer, metrics=[\"RootMeanSquaredError\"])\n",
    "normalization_layer.adapt(X_train)\n",
    "history = model.fit(X_train, y_train, epochs=20,\n",
    "                    validation_data=(X_valid, y_valid))\n"
   ]
  },
  {
   "cell_type": "code",
   "execution_count": 9,
   "id": "acc7859e-d63f-47ce-a6ec-34439629dc15",
   "metadata": {},
   "outputs": [
    {
     "name": "stdout",
     "output_type": "stream",
     "text": [
      "\u001b[1m162/162\u001b[0m \u001b[32m━━━━━━━━━━━━━━━━━━━━\u001b[0m\u001b[37m\u001b[0m \u001b[1m0s\u001b[0m 3ms/step - RootMeanSquaredError: 0.5529 - loss: 0.3058 \n"
     ]
    },
    {
     "data": {
      "text/plain": [
       "0.5538560748100281"
      ]
     },
     "execution_count": 9,
     "metadata": {},
     "output_type": "execute_result"
    }
   ],
   "source": [
    "mse_test, rmse_test = model.evaluate(X_test, y_test)\n",
    "rmse_test"
   ]
  },
  {
   "cell_type": "code",
   "execution_count": 11,
   "id": "e1403885-734e-47ec-9eb9-02237940564e",
   "metadata": {},
   "outputs": [
    {
     "name": "stdout",
     "output_type": "stream",
     "text": [
      "\u001b[1m1/1\u001b[0m \u001b[32m━━━━━━━━━━━━━━━━━━━━\u001b[0m\u001b[37m\u001b[0m \u001b[1m0s\u001b[0m 49ms/step\n"
     ]
    },
    {
     "data": {
      "text/plain": [
       "array([[0.39595097],\n",
       "       [1.3510048 ],\n",
       "       [4.524161  ]], dtype=float32)"
      ]
     },
     "execution_count": 11,
     "metadata": {},
     "output_type": "execute_result"
    }
   ],
   "source": [
    "X_new = X_test[:3]\n",
    "y_pred = model.predict(X_new)\n",
    "y_pred"
   ]
  },
  {
   "cell_type": "markdown",
   "id": "78329489-53ce-44a4-9ae1-07611f51585c",
   "metadata": {},
   "source": [
    "## What if you want to send different subsets of input features through the wide or deep paths? We will send 5 features (features 0 to 4), and 6 through the deep path (features 2 to 7). Note that 3 features will go through both (features 2, 3 and 4)."
   ]
  },
  {
   "cell_type": "code",
   "execution_count": 12,
   "id": "dd026864-9659-4961-8b3f-763b9879945f",
   "metadata": {},
   "outputs": [],
   "source": [
    "tf.random.set_seed(42)  # extra code"
   ]
  },
  {
   "cell_type": "markdown",
   "id": "6cc6bd84-c0d5-40d9-913a-924642e0e468",
   "metadata": {},
   "source": [
    "## Wprowadzanie dodatkowego wejścia (obsługa wielu wejść) - wejście krótkie i wejście głębokie"
   ]
  },
  {
   "cell_type": "code",
   "execution_count": 13,
   "id": "1c16627e-0152-4385-80e9-44c822a2c0e5",
   "metadata": {},
   "outputs": [],
   "source": [
    "input_wide = tf.keras.layers.Input(shape=[5])  # features 0 to 4\n",
    "input_deep = tf.keras.layers.Input(shape=[6])  # features 2 to 7\n",
    "norm_layer_wide = tf.keras.layers.Normalization()\n",
    "norm_layer_deep = tf.keras.layers.Normalization()\n",
    "norm_wide = norm_layer_wide(input_wide)\n",
    "norm_deep = norm_layer_deep(input_deep)\n",
    "hidden1 = tf.keras.layers.Dense(30, activation=\"relu\")(norm_deep)\n",
    "hidden2 = tf.keras.layers.Dense(30, activation=\"relu\")(hidden1)\n",
    "concat = tf.keras.layers.concatenate([norm_wide, hidden2])\n",
    "output = tf.keras.layers.Dense(1)(concat)\n",
    "model = tf.keras.Model(inputs=[input_wide, input_deep], outputs=[output])"
   ]
  },
  {
   "cell_type": "code",
   "execution_count": 14,
   "id": "c84c9aa8-fbef-43ac-9fb8-c7870e77954a",
   "metadata": {},
   "outputs": [
    {
     "name": "stdout",
     "output_type": "stream",
     "text": [
      "Epoch 1/20\n",
      "\u001b[1m363/363\u001b[0m \u001b[32m━━━━━━━━━━━━━━━━━━━━\u001b[0m\u001b[37m\u001b[0m \u001b[1m3s\u001b[0m 4ms/step - RootMeanSquaredError: 1.4037 - loss: 2.0583 - val_RootMeanSquaredError: 1.3836 - val_loss: 1.9145\n",
      "Epoch 2/20\n",
      "\u001b[1m363/363\u001b[0m \u001b[32m━━━━━━━━━━━━━━━━━━━━\u001b[0m\u001b[37m\u001b[0m \u001b[1m1s\u001b[0m 3ms/step - RootMeanSquaredError: 0.7167 - loss: 0.5143 - val_RootMeanSquaredError: 1.6580 - val_loss: 2.7489\n",
      "Epoch 3/20\n",
      "\u001b[1m363/363\u001b[0m \u001b[32m━━━━━━━━━━━━━━━━━━━━\u001b[0m\u001b[37m\u001b[0m \u001b[1m1s\u001b[0m 4ms/step - RootMeanSquaredError: 0.6674 - loss: 0.4456 - val_RootMeanSquaredError: 1.9629 - val_loss: 3.8529\n",
      "Epoch 4/20\n",
      "\u001b[1m363/363\u001b[0m \u001b[32m━━━━━━━━━━━━━━━━━━━━\u001b[0m\u001b[37m\u001b[0m \u001b[1m1s\u001b[0m 4ms/step - RootMeanSquaredError: 0.6469 - loss: 0.4190 - val_RootMeanSquaredError: 2.3535 - val_loss: 5.5391\n",
      "Epoch 5/20\n",
      "\u001b[1m363/363\u001b[0m \u001b[32m━━━━━━━━━━━━━━━━━━━━\u001b[0m\u001b[37m\u001b[0m \u001b[1m1s\u001b[0m 4ms/step - RootMeanSquaredError: 0.6370 - loss: 0.4060 - val_RootMeanSquaredError: 2.7615 - val_loss: 7.6257\n",
      "Epoch 6/20\n",
      "\u001b[1m363/363\u001b[0m \u001b[32m━━━━━━━━━━━━━━━━━━━━\u001b[0m\u001b[37m\u001b[0m \u001b[1m2s\u001b[0m 4ms/step - RootMeanSquaredError: 0.6376 - loss: 0.4069 - val_RootMeanSquaredError: 2.4791 - val_loss: 6.1458\n",
      "Epoch 7/20\n",
      "\u001b[1m363/363\u001b[0m \u001b[32m━━━━━━━━━━━━━━━━━━━━\u001b[0m\u001b[37m\u001b[0m \u001b[1m1s\u001b[0m 4ms/step - RootMeanSquaredError: 0.6226 - loss: 0.3878 - val_RootMeanSquaredError: 1.6770 - val_loss: 2.8123\n",
      "Epoch 8/20\n",
      "\u001b[1m363/363\u001b[0m \u001b[32m━━━━━━━━━━━━━━━━━━━━\u001b[0m\u001b[37m\u001b[0m \u001b[1m2s\u001b[0m 4ms/step - RootMeanSquaredError: 0.6092 - loss: 0.3713 - val_RootMeanSquaredError: 1.8308 - val_loss: 3.3520\n",
      "Epoch 9/20\n",
      "\u001b[1m363/363\u001b[0m \u001b[32m━━━━━━━━━━━━━━━━━━━━\u001b[0m\u001b[37m\u001b[0m \u001b[1m2s\u001b[0m 4ms/step - RootMeanSquaredError: 0.6053 - loss: 0.3665 - val_RootMeanSquaredError: 1.8147 - val_loss: 3.2932\n",
      "Epoch 10/20\n",
      "\u001b[1m363/363\u001b[0m \u001b[32m━━━━━━━━━━━━━━━━━━━━\u001b[0m\u001b[37m\u001b[0m \u001b[1m1s\u001b[0m 4ms/step - RootMeanSquaredError: 0.6044 - loss: 0.3654 - val_RootMeanSquaredError: 2.2453 - val_loss: 5.0413\n",
      "Epoch 11/20\n",
      "\u001b[1m363/363\u001b[0m \u001b[32m━━━━━━━━━━━━━━━━━━━━\u001b[0m\u001b[37m\u001b[0m \u001b[1m1s\u001b[0m 4ms/step - RootMeanSquaredError: 0.6038 - loss: 0.3648 - val_RootMeanSquaredError: 2.0164 - val_loss: 4.0660\n",
      "Epoch 12/20\n",
      "\u001b[1m363/363\u001b[0m \u001b[32m━━━━━━━━━━━━━━━━━━━━\u001b[0m\u001b[37m\u001b[0m \u001b[1m1s\u001b[0m 4ms/step - RootMeanSquaredError: 0.6009 - loss: 0.3612 - val_RootMeanSquaredError: 2.1824 - val_loss: 4.7628\n",
      "Epoch 13/20\n",
      "\u001b[1m363/363\u001b[0m \u001b[32m━━━━━━━━━━━━━━━━━━━━\u001b[0m\u001b[37m\u001b[0m \u001b[1m1s\u001b[0m 4ms/step - RootMeanSquaredError: 0.5972 - loss: 0.3568 - val_RootMeanSquaredError: 1.7142 - val_loss: 2.9385\n",
      "Epoch 14/20\n",
      "\u001b[1m363/363\u001b[0m \u001b[32m━━━━━━━━━━━━━━━━━━━━\u001b[0m\u001b[37m\u001b[0m \u001b[1m1s\u001b[0m 4ms/step - RootMeanSquaredError: 0.5937 - loss: 0.3526 - val_RootMeanSquaredError: 1.5797 - val_loss: 2.4956\n",
      "Epoch 15/20\n",
      "\u001b[1m363/363\u001b[0m \u001b[32m━━━━━━━━━━━━━━━━━━━━\u001b[0m\u001b[37m\u001b[0m \u001b[1m1s\u001b[0m 4ms/step - RootMeanSquaredError: 0.5870 - loss: 0.3446 - val_RootMeanSquaredError: 1.0832 - val_loss: 1.1734\n",
      "Epoch 16/20\n",
      "\u001b[1m363/363\u001b[0m \u001b[32m━━━━━━━━━━━━━━━━━━━━\u001b[0m\u001b[37m\u001b[0m \u001b[1m1s\u001b[0m 4ms/step - RootMeanSquaredError: 0.5832 - loss: 0.3402 - val_RootMeanSquaredError: 1.2209 - val_loss: 1.4907\n",
      "Epoch 17/20\n",
      "\u001b[1m363/363\u001b[0m \u001b[32m━━━━━━━━━━━━━━━━━━━━\u001b[0m\u001b[37m\u001b[0m \u001b[1m1s\u001b[0m 4ms/step - RootMeanSquaredError: 0.5807 - loss: 0.3373 - val_RootMeanSquaredError: 1.0357 - val_loss: 1.0727\n",
      "Epoch 18/20\n",
      "\u001b[1m363/363\u001b[0m \u001b[32m━━━━━━━━━━━━━━━━━━━━\u001b[0m\u001b[37m\u001b[0m \u001b[1m1s\u001b[0m 4ms/step - RootMeanSquaredError: 0.5801 - loss: 0.3365 - val_RootMeanSquaredError: 1.3486 - val_loss: 1.8188\n",
      "Epoch 19/20\n",
      "\u001b[1m363/363\u001b[0m \u001b[32m━━━━━━━━━━━━━━━━━━━━\u001b[0m\u001b[37m\u001b[0m \u001b[1m1s\u001b[0m 3ms/step - RootMeanSquaredError: 0.5796 - loss: 0.3360 - val_RootMeanSquaredError: 1.3261 - val_loss: 1.7585\n",
      "Epoch 20/20\n",
      "\u001b[1m363/363\u001b[0m \u001b[32m━━━━━━━━━━━━━━━━━━━━\u001b[0m\u001b[37m\u001b[0m \u001b[1m1s\u001b[0m 3ms/step - RootMeanSquaredError: 0.5790 - loss: 0.3353 - val_RootMeanSquaredError: 1.9625 - val_loss: 3.8514\n",
      "\u001b[1m162/162\u001b[0m \u001b[32m━━━━━━━━━━━━━━━━━━━━\u001b[0m\u001b[37m\u001b[0m \u001b[1m0s\u001b[0m 2ms/step - RootMeanSquaredError: 0.5950 - loss: 0.3544 \n",
      "\u001b[1m1/1\u001b[0m \u001b[32m━━━━━━━━━━━━━━━━━━━━\u001b[0m\u001b[37m\u001b[0m \u001b[1m0s\u001b[0m 107ms/step\n"
     ]
    }
   ],
   "source": [
    "optimizer = tf.keras.optimizers.Adam(learning_rate=1e-3)\n",
    "model.compile(loss=\"mse\", optimizer=optimizer, metrics=[\"RootMeanSquaredError\"])\n",
    "\n",
    "X_train_wide, X_train_deep = X_train[:, :5], X_train[:, 2:]\n",
    "X_valid_wide, X_valid_deep = X_valid[:, :5], X_valid[:, 2:]\n",
    "X_test_wide, X_test_deep = X_test[:, :5], X_test[:, 2:]\n",
    "X_new_wide, X_new_deep = X_test_wide[:3], X_test_deep[:3]\n",
    "\n",
    "norm_layer_wide.adapt(X_train_wide)\n",
    "norm_layer_deep.adapt(X_train_deep)\n",
    "history = model.fit((X_train_wide, X_train_deep), y_train, epochs=20,\n",
    "                    validation_data=((X_valid_wide, X_valid_deep), y_valid))\n"
   ]
  },
  {
   "cell_type": "code",
   "execution_count": 15,
   "id": "9672dfd8-50fd-40b7-ac3b-aa4d87268d6b",
   "metadata": {},
   "outputs": [
    {
     "name": "stdout",
     "output_type": "stream",
     "text": [
      "\u001b[1m162/162\u001b[0m \u001b[32m━━━━━━━━━━━━━━━━━━━━\u001b[0m\u001b[37m\u001b[0m \u001b[1m0s\u001b[0m 3ms/step - RootMeanSquaredError: 0.5950 - loss: 0.3544 \n"
     ]
    },
    {
     "data": {
      "text/plain": [
       "[0.34696102142333984, 0.5890339612960815]"
      ]
     },
     "execution_count": 15,
     "metadata": {},
     "output_type": "execute_result"
    }
   ],
   "source": [
    "mse_test = model.evaluate((X_test_wide, X_test_deep), y_test)\n",
    "mse_test"
   ]
  },
  {
   "cell_type": "code",
   "execution_count": 16,
   "id": "051894eb-e4c1-4476-bdd0-f50aae01a507",
   "metadata": {},
   "outputs": [
    {
     "name": "stdout",
     "output_type": "stream",
     "text": [
      "\u001b[1m1/1\u001b[0m \u001b[32m━━━━━━━━━━━━━━━━━━━━\u001b[0m\u001b[37m\u001b[0m \u001b[1m0s\u001b[0m 42ms/step\n"
     ]
    },
    {
     "data": {
      "text/plain": [
       "array([[0.4337224],\n",
       "       [1.1063871],\n",
       "       [3.69656  ]], dtype=float32)"
      ]
     },
     "execution_count": 16,
     "metadata": {},
     "output_type": "execute_result"
    }
   ],
   "source": [
    "y_pred = model.predict((X_new_wide, X_new_deep))\n",
    "y_pred"
   ]
  },
  {
   "cell_type": "markdown",
   "id": "0a57ba4d-d109-48f5-83f9-2ba18305348c",
   "metadata": {},
   "source": [
    "## Wprowadzanie dodatkowego wyjścia (obsługa wielu wyjść) "
   ]
  },
  {
   "cell_type": "code",
   "execution_count": 17,
   "id": "7e097125-69f7-49d1-bb61-71a051362848",
   "metadata": {},
   "outputs": [],
   "source": [
    "tf.keras.backend.clear_session()\n",
    "tf.random.set_seed(42)"
   ]
  },
  {
   "cell_type": "code",
   "execution_count": 18,
   "id": "09d1107a-fcb9-4079-89f9-84e8f8fa7273",
   "metadata": {},
   "outputs": [],
   "source": [
    "input_wide = tf.keras.layers.Input(shape=[5])  # features 0 to 4\n",
    "input_deep = tf.keras.layers.Input(shape=[6])  # features 2 to 7\n",
    "norm_layer_wide = tf.keras.layers.Normalization()\n",
    "norm_layer_deep = tf.keras.layers.Normalization()\n",
    "norm_wide = norm_layer_wide(input_wide)\n",
    "norm_deep = norm_layer_deep(input_deep)\n",
    "hidden1 = tf.keras.layers.Dense(30, activation=\"relu\")(norm_deep)\n",
    "hidden2 = tf.keras.layers.Dense(30, activation=\"relu\")(hidden1)\n",
    "concat = tf.keras.layers.concatenate([norm_wide, hidden2])\n",
    "output = tf.keras.layers.Dense(1)(concat)\n",
    "aux_output = tf.keras.layers.Dense(1)(hidden2)\n",
    "model = tf.keras.Model(inputs=[input_wide, input_deep],\n",
    "                       outputs=[output, aux_output])"
   ]
  },
  {
   "cell_type": "markdown",
   "id": "860f3707-30ca-4739-873b-3c5ad20e08f3",
   "metadata": {},
   "source": [
    "### Każde wyjście wymaga zdefiniowania osobnej funkcji straty, jeśli damy tylko jedną funkcję to wszystkie wyjścia będą na niej bazowały"
   ]
  },
  {
   "cell_type": "code",
   "execution_count": 19,
   "id": "99d6822d-12f5-4dc6-b198-83fb432ac1a3",
   "metadata": {},
   "outputs": [],
   "source": [
    "optimizer = tf.keras.optimizers.Adam(learning_rate=1e-3)\n",
    "model.compile(loss=(\"mse\", \"mse\"), loss_weights=(0.9, 0.1), optimizer=optimizer,\n",
    "              metrics=[\"RootMeanSquaredError\", \"RootMeanSquaredError\"])"
   ]
  },
  {
   "cell_type": "code",
   "execution_count": 20,
   "id": "9d49b807-6306-4510-a7a4-1102f5f528f3",
   "metadata": {
    "scrolled": true
   },
   "outputs": [
    {
     "name": "stdout",
     "output_type": "stream",
     "text": [
      "Epoch 1/20\n",
      "\u001b[1m363/363\u001b[0m \u001b[32m━━━━━━━━━━━━━━━━━━━━\u001b[0m\u001b[37m\u001b[0m \u001b[1m4s\u001b[0m 5ms/step - dense_2_RootMeanSquaredError: 1.4275 - dense_2_loss: 2.1410 - dense_3_RootMeanSquaredError: 1.9313 - dense_3_loss: 3.8148 - loss: 2.3084 - val_dense_2_RootMeanSquaredError: 0.8098 - val_dense_2_loss: 0.6555 - val_dense_3_RootMeanSquaredError: 2.7175 - val_dense_3_loss: 7.3812 - val_loss: 1.3286\n",
      "Epoch 2/20\n",
      "\u001b[1m363/363\u001b[0m \u001b[32m━━━━━━━━━━━━━━━━━━━━\u001b[0m\u001b[37m\u001b[0m \u001b[1m1s\u001b[0m 4ms/step - dense_2_RootMeanSquaredError: 0.7138 - dense_2_loss: 0.5105 - dense_3_RootMeanSquaredError: 1.0022 - dense_3_loss: 1.0061 - loss: 0.5601 - val_dense_2_RootMeanSquaredError: 0.6465 - val_dense_2_loss: 0.4178 - val_dense_3_RootMeanSquaredError: 0.8790 - val_dense_3_loss: 0.7726 - val_loss: 0.4534\n",
      "Epoch 3/20\n",
      "\u001b[1m363/363\u001b[0m \u001b[32m━━━━━━━━━━━━━━━━━━━━\u001b[0m\u001b[37m\u001b[0m \u001b[1m2s\u001b[0m 4ms/step - dense_2_RootMeanSquaredError: 0.6704 - dense_2_loss: 0.4497 - dense_3_RootMeanSquaredError: 0.8329 - dense_3_loss: 0.6941 - loss: 0.4742 - val_dense_2_RootMeanSquaredError: 1.0347 - val_dense_2_loss: 1.0701 - val_dense_3_RootMeanSquaredError: 0.7809 - val_dense_3_loss: 0.6097 - val_loss: 1.0245\n",
      "Epoch 4/20\n",
      "\u001b[1m363/363\u001b[0m \u001b[32m━━━━━━━━━━━━━━━━━━━━\u001b[0m\u001b[37m\u001b[0m \u001b[1m2s\u001b[0m 5ms/step - dense_2_RootMeanSquaredError: 0.6554 - dense_2_loss: 0.4298 - dense_3_RootMeanSquaredError: 0.7810 - dense_3_loss: 0.6101 - loss: 0.4479 - val_dense_2_RootMeanSquaredError: 0.9921 - val_dense_2_loss: 0.9838 - val_dense_3_RootMeanSquaredError: 0.7888 - val_dense_3_loss: 0.6221 - val_loss: 0.9480\n",
      "Epoch 5/20\n",
      "\u001b[1m363/363\u001b[0m \u001b[32m━━━━━━━━━━━━━━━━━━━━\u001b[0m\u001b[37m\u001b[0m \u001b[1m1s\u001b[0m 3ms/step - dense_2_RootMeanSquaredError: 0.6460 - dense_2_loss: 0.4175 - dense_3_RootMeanSquaredError: 0.7588 - dense_3_loss: 0.5759 - loss: 0.4333 - val_dense_2_RootMeanSquaredError: 1.1742 - val_dense_2_loss: 1.3780 - val_dense_3_RootMeanSquaredError: 0.7420 - val_dense_3_loss: 0.5505 - val_loss: 1.2958\n",
      "Epoch 6/20\n",
      "\u001b[1m363/363\u001b[0m \u001b[32m━━━━━━━━━━━━━━━━━━━━\u001b[0m\u001b[37m\u001b[0m \u001b[1m1s\u001b[0m 4ms/step - dense_2_RootMeanSquaredError: 0.6399 - dense_2_loss: 0.4096 - dense_3_RootMeanSquaredError: 0.7481 - dense_3_loss: 0.5598 - loss: 0.4247 - val_dense_2_RootMeanSquaredError: 1.4795 - val_dense_2_loss: 2.1878 - val_dense_3_RootMeanSquaredError: 1.2595 - val_dense_3_loss: 1.5856 - val_loss: 2.1286\n",
      "Epoch 7/20\n",
      "\u001b[1m363/363\u001b[0m \u001b[32m━━━━━━━━━━━━━━━━━━━━\u001b[0m\u001b[37m\u001b[0m \u001b[1m1s\u001b[0m 4ms/step - dense_2_RootMeanSquaredError: 0.6358 - dense_2_loss: 0.4044 - dense_3_RootMeanSquaredError: 0.7357 - dense_3_loss: 0.5415 - loss: 0.4181 - val_dense_2_RootMeanSquaredError: 1.8543 - val_dense_2_loss: 3.4369 - val_dense_3_RootMeanSquaredError: 0.8639 - val_dense_3_loss: 0.7462 - val_loss: 3.1693\n",
      "Epoch 8/20\n",
      "\u001b[1m363/363\u001b[0m \u001b[32m━━━━━━━━━━━━━━━━━━━━\u001b[0m\u001b[37m\u001b[0m \u001b[1m1s\u001b[0m 4ms/step - dense_2_RootMeanSquaredError: 0.6296 - dense_2_loss: 0.3965 - dense_3_RootMeanSquaredError: 0.7221 - dense_3_loss: 0.5216 - loss: 0.4090 - val_dense_2_RootMeanSquaredError: 2.0775 - val_dense_2_loss: 4.3138 - val_dense_3_RootMeanSquaredError: 1.7264 - val_dense_3_loss: 2.9791 - val_loss: 4.1824\n",
      "Epoch 9/20\n",
      "\u001b[1m363/363\u001b[0m \u001b[32m━━━━━━━━━━━━━━━━━━━━\u001b[0m\u001b[37m\u001b[0m \u001b[1m2s\u001b[0m 4ms/step - dense_2_RootMeanSquaredError: 0.6285 - dense_2_loss: 0.3952 - dense_3_RootMeanSquaredError: 0.7147 - dense_3_loss: 0.5109 - loss: 0.4067 - val_dense_2_RootMeanSquaredError: 1.7630 - val_dense_2_loss: 3.1065 - val_dense_3_RootMeanSquaredError: 1.0196 - val_dense_3_loss: 1.0391 - val_loss: 2.9012\n",
      "Epoch 10/20\n",
      "\u001b[1m363/363\u001b[0m \u001b[32m━━━━━━━━━━━━━━━━━━━━\u001b[0m\u001b[37m\u001b[0m \u001b[1m1s\u001b[0m 4ms/step - dense_2_RootMeanSquaredError: 0.6172 - dense_2_loss: 0.3811 - dense_3_RootMeanSquaredError: 0.6943 - dense_3_loss: 0.4822 - loss: 0.3912 - val_dense_2_RootMeanSquaredError: 1.1520 - val_dense_2_loss: 1.3265 - val_dense_3_RootMeanSquaredError: 1.0293 - val_dense_3_loss: 1.0591 - val_loss: 1.3003\n",
      "Epoch 11/20\n",
      "\u001b[1m363/363\u001b[0m \u001b[32m━━━━━━━━━━━━━━━━━━━━\u001b[0m\u001b[37m\u001b[0m \u001b[1m2s\u001b[0m 5ms/step - dense_2_RootMeanSquaredError: 0.6059 - dense_2_loss: 0.3672 - dense_3_RootMeanSquaredError: 0.6815 - dense_3_loss: 0.4646 - loss: 0.3770 - val_dense_2_RootMeanSquaredError: 0.8384 - val_dense_2_loss: 0.7027 - val_dense_3_RootMeanSquaredError: 0.7063 - val_dense_3_loss: 0.4987 - val_loss: 0.6825\n",
      "Epoch 12/20\n",
      "\u001b[1m363/363\u001b[0m \u001b[32m━━━━━━━━━━━━━━━━━━━━\u001b[0m\u001b[37m\u001b[0m \u001b[1m2s\u001b[0m 5ms/step - dense_2_RootMeanSquaredError: 0.5992 - dense_2_loss: 0.3591 - dense_3_RootMeanSquaredError: 0.6707 - dense_3_loss: 0.4499 - loss: 0.3682 - val_dense_2_RootMeanSquaredError: 0.7476 - val_dense_2_loss: 0.5587 - val_dense_3_RootMeanSquaredError: 0.8090 - val_dense_3_loss: 0.6543 - val_loss: 0.5685\n",
      "Epoch 13/20\n",
      "\u001b[1m363/363\u001b[0m \u001b[32m━━━━━━━━━━━━━━━━━━━━\u001b[0m\u001b[37m\u001b[0m \u001b[1m2s\u001b[0m 4ms/step - dense_2_RootMeanSquaredError: 0.5957 - dense_2_loss: 0.3549 - dense_3_RootMeanSquaredError: 0.6640 - dense_3_loss: 0.4410 - loss: 0.3635 - val_dense_2_RootMeanSquaredError: 0.7438 - val_dense_2_loss: 0.5531 - val_dense_3_RootMeanSquaredError: 0.6545 - val_dense_3_loss: 0.4283 - val_loss: 0.5408\n",
      "Epoch 14/20\n",
      "\u001b[1m363/363\u001b[0m \u001b[32m━━━━━━━━━━━━━━━━━━━━\u001b[0m\u001b[37m\u001b[0m \u001b[1m2s\u001b[0m 4ms/step - dense_2_RootMeanSquaredError: 0.5908 - dense_2_loss: 0.3491 - dense_3_RootMeanSquaredError: 0.6555 - dense_3_loss: 0.4297 - loss: 0.3571 - val_dense_2_RootMeanSquaredError: 0.7488 - val_dense_2_loss: 0.5605 - val_dense_3_RootMeanSquaredError: 0.8320 - val_dense_3_loss: 0.6920 - val_loss: 0.5738\n",
      "Epoch 15/20\n",
      "\u001b[1m363/363\u001b[0m \u001b[32m━━━━━━━━━━━━━━━━━━━━\u001b[0m\u001b[37m\u001b[0m \u001b[1m2s\u001b[0m 4ms/step - dense_2_RootMeanSquaredError: 0.5872 - dense_2_loss: 0.3449 - dense_3_RootMeanSquaredError: 0.6489 - dense_3_loss: 0.4212 - loss: 0.3525 - val_dense_2_RootMeanSquaredError: 0.9227 - val_dense_2_loss: 0.8510 - val_dense_3_RootMeanSquaredError: 0.6985 - val_dense_3_loss: 0.4879 - val_loss: 0.8150\n",
      "Epoch 16/20\n",
      "\u001b[1m363/363\u001b[0m \u001b[32m━━━━━━━━━━━━━━━━━━━━\u001b[0m\u001b[37m\u001b[0m \u001b[1m2s\u001b[0m 4ms/step - dense_2_RootMeanSquaredError: 0.5875 - dense_2_loss: 0.3452 - dense_3_RootMeanSquaredError: 0.6473 - dense_3_loss: 0.4192 - loss: 0.3526 - val_dense_2_RootMeanSquaredError: 0.9847 - val_dense_2_loss: 0.9692 - val_dense_3_RootMeanSquaredError: 1.0063 - val_dense_3_loss: 1.0122 - val_loss: 0.9739\n",
      "Epoch 17/20\n",
      "\u001b[1m363/363\u001b[0m \u001b[32m━━━━━━━━━━━━━━━━━━━━\u001b[0m\u001b[37m\u001b[0m \u001b[1m2s\u001b[0m 4ms/step - dense_2_RootMeanSquaredError: 0.5833 - dense_2_loss: 0.3403 - dense_3_RootMeanSquaredError: 0.6416 - dense_3_loss: 0.4117 - loss: 0.3474 - val_dense_2_RootMeanSquaredError: 1.2359 - val_dense_2_loss: 1.5269 - val_dense_3_RootMeanSquaredError: 0.8527 - val_dense_3_loss: 0.7270 - val_loss: 1.4475\n",
      "Epoch 18/20\n",
      "\u001b[1m363/363\u001b[0m \u001b[32m━━━━━━━━━━━━━━━━━━━━\u001b[0m\u001b[37m\u001b[0m \u001b[1m2s\u001b[0m 4ms/step - dense_2_RootMeanSquaredError: 0.5841 - dense_2_loss: 0.3412 - dense_3_RootMeanSquaredError: 0.6399 - dense_3_loss: 0.4096 - loss: 0.3481 - val_dense_2_RootMeanSquaredError: 1.6757 - val_dense_2_loss: 2.8065 - val_dense_3_RootMeanSquaredError: 1.4196 - val_dense_3_loss: 2.0144 - val_loss: 2.7286\n",
      "Epoch 19/20\n",
      "\u001b[1m363/363\u001b[0m \u001b[32m━━━━━━━━━━━━━━━━━━━━\u001b[0m\u001b[37m\u001b[0m \u001b[1m2s\u001b[0m 4ms/step - dense_2_RootMeanSquaredError: 0.5861 - dense_2_loss: 0.3436 - dense_3_RootMeanSquaredError: 0.6385 - dense_3_loss: 0.4078 - loss: 0.3500 - val_dense_2_RootMeanSquaredError: 1.6412 - val_dense_2_loss: 2.6921 - val_dense_3_RootMeanSquaredError: 1.0366 - val_dense_3_loss: 1.0741 - val_loss: 2.5315\n",
      "Epoch 20/20\n",
      "\u001b[1m363/363\u001b[0m \u001b[32m━━━━━━━━━━━━━━━━━━━━\u001b[0m\u001b[37m\u001b[0m \u001b[1m2s\u001b[0m 4ms/step - dense_2_RootMeanSquaredError: 0.5840 - dense_2_loss: 0.3411 - dense_3_RootMeanSquaredError: 0.6369 - dense_3_loss: 0.4059 - loss: 0.3476 - val_dense_2_RootMeanSquaredError: 0.9953 - val_dense_2_loss: 0.9902 - val_dense_3_RootMeanSquaredError: 1.0124 - val_dense_3_loss: 1.0245 - val_loss: 0.9940\n"
     ]
    }
   ],
   "source": [
    "norm_layer_wide.adapt(X_train_wide)\n",
    "norm_layer_deep.adapt(X_train_deep)\n",
    "history = model.fit(\n",
    "    (X_train_wide, X_train_deep), (y_train, y_train), epochs=20,\n",
    "    validation_data=((X_valid_wide, X_valid_deep), (y_valid, y_valid))\n",
    ")"
   ]
  },
  {
   "cell_type": "code",
   "execution_count": 21,
   "id": "1123596c-059a-4d96-a78c-e420ce7acb4f",
   "metadata": {},
   "outputs": [
    {
     "name": "stdout",
     "output_type": "stream",
     "text": [
      "\u001b[1m162/162\u001b[0m \u001b[32m━━━━━━━━━━━━━━━━━━━━\u001b[0m\u001b[37m\u001b[0m \u001b[1m1s\u001b[0m 3ms/step - dense_2_RootMeanSquaredError: 0.5817 - dense_2_loss: 0.3384 - dense_3_RootMeanSquaredError: 0.6387 - dense_3_loss: 0.4081 - loss: 0.3454 \n"
     ]
    }
   ],
   "source": [
    "eval_results = model.evaluate((X_test_wide, X_test_deep), (y_test, y_test))\n",
    "weighted_sum_of_losses, main_loss, aux_loss = eval_results[:3]"
   ]
  },
  {
   "cell_type": "code",
   "execution_count": 23,
   "id": "a19c4da5-fb10-43db-a35e-0e2addcf4ab8",
   "metadata": {},
   "outputs": [
    {
     "name": "stdout",
     "output_type": "stream",
     "text": [
      "\u001b[1m1/1\u001b[0m \u001b[32m━━━━━━━━━━━━━━━━━━━━\u001b[0m\u001b[37m\u001b[0m \u001b[1m0s\u001b[0m 72ms/step\n",
      "[[0.46224195]\n",
      " [1.1063927 ]\n",
      " [3.6208448 ]]\n",
      "[[0.57143426]\n",
      " [1.0392497 ]\n",
      " [3.2053535 ]]\n"
     ]
    }
   ],
   "source": [
    "y_pred_main, y_pred_aux = model.predict((X_new_wide, X_new_deep))\n",
    "print(y_pred_main)\n",
    "print(y_pred_aux)"
   ]
  },
  {
   "cell_type": "code",
   "execution_count": 25,
   "id": "aaadca04-1942-47d2-9166-2a39a570202a",
   "metadata": {},
   "outputs": [
    {
     "name": "stdout",
     "output_type": "stream",
     "text": [
      "\u001b[1m1/1\u001b[0m \u001b[32m━━━━━━━━━━━━━━━━━━━━\u001b[0m\u001b[37m\u001b[0m \u001b[1m0s\u001b[0m 50ms/step\n",
      "{'dense_2': array([[0.46224195],\n",
      "       [1.1063927 ],\n",
      "       [3.6208448 ]], dtype=float32), 'dense_3': array([[0.57143426],\n",
      "       [1.0392497 ],\n",
      "       [3.2053535 ]], dtype=float32)}\n"
     ]
    }
   ],
   "source": [
    "y_pred_tuple = model.predict((X_new_wide, X_new_deep))\n",
    "y_pred = dict(zip(model.output_names, y_pred_tuple))\n",
    "print(y_pred)"
   ]
  },
  {
   "cell_type": "markdown",
   "id": "7ce11992-3295-4eb5-9dce-91211abb96be",
   "metadata": {},
   "source": [
    "## Using the Subclassing API to Build Dynamic Models - dla amatorów używania klas"
   ]
  },
  {
   "cell_type": "code",
   "execution_count": 27,
   "id": "a57fd5fb-7709-47f2-9e76-1cbdf5b3fad7",
   "metadata": {},
   "outputs": [],
   "source": [
    "class WideAndDeepModel(tf.keras.Model):\n",
    "    def __init__(self, units=30, activation=\"relu\", **kwargs):\n",
    "        super().__init__(**kwargs)  # needed to support naming the model\n",
    "        self.norm_layer_wide = tf.keras.layers.Normalization()\n",
    "        self.norm_layer_deep = tf.keras.layers.Normalization()\n",
    "        self.hidden1 = tf.keras.layers.Dense(units, activation=activation)\n",
    "        self.hidden2 = tf.keras.layers.Dense(units, activation=activation)\n",
    "        self.main_output = tf.keras.layers.Dense(1)\n",
    "        self.aux_output = tf.keras.layers.Dense(1)\n",
    "        \n",
    "    def call(self, inputs):\n",
    "        input_wide, input_deep = inputs\n",
    "        norm_wide = self.norm_layer_wide(input_wide)\n",
    "        norm_deep = self.norm_layer_deep(input_deep)\n",
    "        hidden1 = self.hidden1(norm_deep)\n",
    "        hidden2 = self.hidden2(hidden1)\n",
    "        concat = tf.keras.layers.concatenate([norm_wide, hidden2])\n",
    "        output = self.main_output(concat)\n",
    "        aux_output = self.aux_output(hidden2)\n",
    "        return output, aux_output\n",
    "\n",
    "tf.random.set_seed(42)  # extra code – just for reproducibility\n",
    "model = WideAndDeepModel(30, activation=\"relu\", name=\"my_cool_model\")"
   ]
  },
  {
   "cell_type": "markdown",
   "id": "83f13abd-be09-4cfc-bde1-aa71bd018cbc",
   "metadata": {},
   "source": [
    "**Warning**: as explained above, Keras now requires one loss and one metric per output, so I replaced `loss=\"mse\"` with `loss=[\"mse\", \"mse\"]` and I also replaced `metrics=[\"RootMeanSquaredError\"]` with `metrics=[\"RootMeanSquaredError\", \"RootMeanSquaredError\"]` in the code below."
   ]
  },
  {
   "cell_type": "code",
   "execution_count": 28,
   "id": "a4279a4c-9575-4eed-9b16-b90ec4d36eb7",
   "metadata": {},
   "outputs": [
    {
     "name": "stdout",
     "output_type": "stream",
     "text": [
      "Epoch 1/10\n",
      "\u001b[1m363/363\u001b[0m \u001b[32m━━━━━━━━━━━━━━━━━━━━\u001b[0m\u001b[37m\u001b[0m \u001b[1m4s\u001b[0m 6ms/step - RootMeanSquaredError: 1.6222 - RootMeanSquaredError_1: 1.8287 - loss: 2.8136 - mse_loss: 3.4140 - val_RootMeanSquaredError: 1.3494 - val_RootMeanSquaredError_1: 2.9288 - val_loss: 2.4967 - val_mse_loss: 8.5740\n",
      "Epoch 2/10\n",
      "\u001b[1m363/363\u001b[0m \u001b[32m━━━━━━━━━━━━━━━━━━━━\u001b[0m\u001b[37m\u001b[0m \u001b[1m2s\u001b[0m 5ms/step - RootMeanSquaredError: 0.7771 - RootMeanSquaredError_1: 1.0162 - loss: 0.6477 - mse_loss: 1.0332 - val_RootMeanSquaredError: 0.7284 - val_RootMeanSquaredError_1: 2.1973 - val_loss: 0.9603 - val_mse_loss: 4.8260\n",
      "Epoch 3/10\n",
      "\u001b[1m363/363\u001b[0m \u001b[32m━━━━━━━━━━━━━━━━━━━━\u001b[0m\u001b[37m\u001b[0m \u001b[1m1s\u001b[0m 3ms/step - RootMeanSquaredError: 0.6846 - RootMeanSquaredError_1: 0.8913 - loss: 0.5015 - mse_loss: 0.7946 - val_RootMeanSquaredError: 0.6259 - val_RootMeanSquaredError_1: 1.6226 - val_loss: 0.6159 - val_mse_loss: 2.6318\n",
      "Epoch 4/10\n",
      "\u001b[1m363/363\u001b[0m \u001b[32m━━━━━━━━━━━━━━━━━━━━\u001b[0m\u001b[37m\u001b[0m \u001b[1m1s\u001b[0m 3ms/step - RootMeanSquaredError: 0.6536 - RootMeanSquaredError_1: 0.8215 - loss: 0.4521 - mse_loss: 0.6751 - val_RootMeanSquaredError: 0.6079 - val_RootMeanSquaredError_1: 1.2295 - val_loss: 0.4837 - val_mse_loss: 1.5111\n",
      "Epoch 5/10\n",
      "\u001b[1m363/363\u001b[0m \u001b[32m━━━━━━━━━━━━━━━━━━━━\u001b[0m\u001b[37m\u001b[0m \u001b[1m1s\u001b[0m 3ms/step - RootMeanSquaredError: 0.6353 - RootMeanSquaredError_1: 0.7716 - loss: 0.4229 - mse_loss: 0.5956 - val_RootMeanSquaredError: 0.6151 - val_RootMeanSquaredError_1: 0.9790 - val_loss: 0.4364 - val_mse_loss: 0.9581\n",
      "Epoch 6/10\n",
      "\u001b[1m363/363\u001b[0m \u001b[32m━━━━━━━━━━━━━━━━━━━━\u001b[0m\u001b[37m\u001b[0m \u001b[1m2s\u001b[0m 4ms/step - RootMeanSquaredError: 0.6233 - RootMeanSquaredError_1: 0.7384 - loss: 0.4043 - mse_loss: 0.5455 - val_RootMeanSquaredError: 0.5990 - val_RootMeanSquaredError_1: 0.8251 - val_loss: 0.3910 - val_mse_loss: 0.6805\n",
      "Epoch 7/10\n",
      "\u001b[1m363/363\u001b[0m \u001b[32m━━━━━━━━━━━━━━━━━━━━\u001b[0m\u001b[37m\u001b[0m \u001b[1m1s\u001b[0m 3ms/step - RootMeanSquaredError: 0.6151 - RootMeanSquaredError_1: 0.7155 - loss: 0.3918 - mse_loss: 0.5121 - val_RootMeanSquaredError: 0.6892 - val_RootMeanSquaredError_1: 0.7426 - val_loss: 0.4826 - val_mse_loss: 0.5513\n",
      "Epoch 8/10\n",
      "\u001b[1m363/363\u001b[0m \u001b[32m━━━━━━━━━━━━━━━━━━━━\u001b[0m\u001b[37m\u001b[0m \u001b[1m1s\u001b[0m 3ms/step - RootMeanSquaredError: 0.6090 - RootMeanSquaredError_1: 0.6980 - loss: 0.3826 - mse_loss: 0.4873 - val_RootMeanSquaredError: 0.6183 - val_RootMeanSquaredError_1: 0.6915 - val_loss: 0.3919 - val_mse_loss: 0.4780\n",
      "Epoch 9/10\n",
      "\u001b[1m363/363\u001b[0m \u001b[32m━━━━━━━━━━━━━━━━━━━━\u001b[0m\u001b[37m\u001b[0m \u001b[1m1s\u001b[0m 3ms/step - RootMeanSquaredError: 0.6030 - RootMeanSquaredError_1: 0.6832 - loss: 0.3740 - mse_loss: 0.4669 - val_RootMeanSquaredError: 0.9463 - val_RootMeanSquaredError_1: 0.6577 - val_loss: 0.8492 - val_mse_loss: 0.4325\n",
      "Epoch 10/10\n",
      "\u001b[1m363/363\u001b[0m \u001b[32m━━━━━━━━━━━━━━━━━━━━\u001b[0m\u001b[37m\u001b[0m \u001b[1m1s\u001b[0m 3ms/step - RootMeanSquaredError: 0.5994 - RootMeanSquaredError_1: 0.6735 - loss: 0.3688 - mse_loss: 0.4538 - val_RootMeanSquaredError: 1.1903 - val_RootMeanSquaredError_1: 1.0701 - val_loss: 1.3896 - val_mse_loss: 1.1447\n"
     ]
    }
   ],
   "source": [
    "optimizer = tf.keras.optimizers.Adam(learning_rate=1e-3)\n",
    "model.compile(loss=[\"mse\", \"mse\"], loss_weights=[0.9, 0.1], optimizer=optimizer,\n",
    "              metrics=[\"RootMeanSquaredError\", \"RootMeanSquaredError\"])\n",
    "model.norm_layer_wide.adapt(X_train_wide)\n",
    "model.norm_layer_deep.adapt(X_train_deep)\n",
    "history = model.fit(\n",
    "    (X_train_wide, X_train_deep), (y_train, y_train), epochs=10,\n",
    "    validation_data=((X_valid_wide, X_valid_deep), (y_valid, y_valid)))\n"
   ]
  },
  {
   "cell_type": "code",
   "execution_count": 29,
   "id": "28cecf53-5038-4135-9f97-35d50cac202d",
   "metadata": {},
   "outputs": [
    {
     "name": "stdout",
     "output_type": "stream",
     "text": [
      "\u001b[1m162/162\u001b[0m \u001b[32m━━━━━━━━━━━━━━━━━━━━\u001b[0m\u001b[37m\u001b[0m \u001b[1m0s\u001b[0m 3ms/step - RootMeanSquaredError: 0.6036 - RootMeanSquaredError_1: 0.6728 - loss: 0.3733 - mse_loss: 0.4527 \n",
      "\u001b[1m1/1\u001b[0m \u001b[32m━━━━━━━━━━━━━━━━━━━━\u001b[0m\u001b[37m\u001b[0m \u001b[1m0s\u001b[0m 104ms/step\n"
     ]
    }
   ],
   "source": [
    "eval_results = model.evaluate((X_test_wide, X_test_deep), (y_test, y_test))\n",
    "y_pred_main, y_pred_aux = model.predict((X_new_wide, X_new_deep))"
   ]
  },
  {
   "cell_type": "markdown",
   "id": "f36624c5-e434-41e7-bb8c-abd77e05937b",
   "metadata": {},
   "source": [
    "# Zapis modelu"
   ]
  },
  {
   "cell_type": "code",
   "execution_count": 30,
   "id": "17c2a60e-96d9-4cc0-8316-a3733a5f1a1a",
   "metadata": {},
   "outputs": [],
   "source": [
    "import shutil\n",
    "shutil.rmtree(\"my_keras_model\", ignore_errors=True)"
   ]
  },
  {
   "cell_type": "code",
   "execution_count": 31,
   "id": "ad12f96a-a2a3-486b-bda4-57790767c7d9",
   "metadata": {},
   "outputs": [
    {
     "name": "stdout",
     "output_type": "stream",
     "text": [
      "INFO:tensorflow:Assets written to: my_keras_model/assets\n"
     ]
    },
    {
     "name": "stderr",
     "output_type": "stream",
     "text": [
      "INFO:tensorflow:Assets written to: my_keras_model/assets\n"
     ]
    },
    {
     "name": "stdout",
     "output_type": "stream",
     "text": [
      "Saved artifact at 'my_keras_model'. The following endpoints are available:\n",
      "\n",
      "* Endpoint 'serve'\n",
      "  args_0 (POSITIONAL_ONLY): Tuple[TensorSpec(shape=(None, 5), dtype=tf.float32, name=None), TensorSpec(shape=(None, 6), dtype=tf.float32, name=None)]\n",
      "Output Type:\n",
      "  Tuple[TensorSpec(shape=(None, 1), dtype=tf.float32, name=None), TensorSpec(shape=(None, 1), dtype=tf.float32, name=None)]\n",
      "Captures:\n",
      "  138968343418768: TensorSpec(shape=(1, 5), dtype=tf.float32, name=None)\n",
      "  138968343421072: TensorSpec(shape=(1, 5), dtype=tf.float32, name=None)\n",
      "  138967995817936: TensorSpec(shape=(1, 6), dtype=tf.float32, name=None)\n",
      "  138967995821968: TensorSpec(shape=(1, 6), dtype=tf.float32, name=None)\n",
      "  138967995825424: TensorSpec(shape=(), dtype=tf.resource, name=None)\n",
      "  138967995822736: TensorSpec(shape=(), dtype=tf.resource, name=None)\n",
      "  138967995822928: TensorSpec(shape=(), dtype=tf.resource, name=None)\n",
      "  138967995824656: TensorSpec(shape=(), dtype=tf.resource, name=None)\n",
      "  138968013948496: TensorSpec(shape=(), dtype=tf.resource, name=None)\n",
      "  138968013947152: TensorSpec(shape=(), dtype=tf.resource, name=None)\n",
      "  138968013948880: TensorSpec(shape=(), dtype=tf.resource, name=None)\n",
      "  138968013948688: TensorSpec(shape=(), dtype=tf.resource, name=None)\n"
     ]
    }
   ],
   "source": [
    "model.export(\"my_keras_model\")"
   ]
  },
  {
   "cell_type": "code",
   "execution_count": 33,
   "id": "dbaea3e4-4541-4b49-943a-5ec862c29043",
   "metadata": {},
   "outputs": [
    {
     "name": "stdout",
     "output_type": "stream",
     "text": [
      "my_keras_model/assets\n",
      "my_keras_model/fingerprint.pb\n",
      "my_keras_model/saved_model.pb\n",
      "my_keras_model/variables\n",
      "my_keras_model/variables/variables.data-00000-of-00001\n",
      "my_keras_model/variables/variables.index\n"
     ]
    }
   ],
   "source": [
    "# extra code – show the contents of the my_keras_model/ directory\n",
    "from pathlib import Path\n",
    "for path in sorted(Path(\"my_keras_model\").glob(\"**/*\")):\n",
    "    print(path)"
   ]
  },
  {
   "cell_type": "markdown",
   "id": "3bcf9e00-1a62-49f7-a595-4985619e0a30",
   "metadata": {},
   "source": [
    "**Warning**: Keras now requires the saved weights to have the `.weights.h5` extension. There are no longer saved using the `SavedModel` format."
   ]
  },
  {
   "cell_type": "code",
   "execution_count": 36,
   "id": "e615be54-6a47-43c1-9135-cfdd7c1537be",
   "metadata": {},
   "outputs": [],
   "source": [
    "model.save_weights(\"my_weights.weights.h5\")"
   ]
  },
  {
   "cell_type": "markdown",
   "id": "cad21b80-1127-40c3-be98-11e666ea81ab",
   "metadata": {},
   "source": [
    "To save a model using the `.keras` format, simply use `model.save()`:"
   ]
  },
  {
   "cell_type": "code",
   "execution_count": 38,
   "id": "408db244-9ff1-40b3-902f-16b96557b5de",
   "metadata": {},
   "outputs": [],
   "source": [
    "model.save(\"my_model.keras\")"
   ]
  },
  {
   "cell_type": "markdown",
   "id": "500665ea-2d2a-4135-b1a4-fa5d1302b3b3",
   "metadata": {},
   "source": [
    "# Wczytywanie modelu"
   ]
  },
  {
   "cell_type": "markdown",
   "id": "5d7fb060-2ef7-4e61-9743-d1e6f31fb218",
   "metadata": {},
   "source": [
    "**Warning**: In Keras 3, it is no longer possible to load a TensorFlow `SavedModel` as a Keras model. However, you can load a `SavedModel` as a `tf.keras.layers.TFSMLayer` layer, but be aware that this layer can only be used for inference: no training."
   ]
  },
  {
   "cell_type": "code",
   "execution_count": 35,
   "id": "23887232-b779-4f39-a24c-91822ee9a170",
   "metadata": {},
   "outputs": [
    {
     "name": "stdout",
     "output_type": "stream",
     "text": [
      "tf.Tensor(\n",
      "[[0.38366944]\n",
      " [1.4965532 ]\n",
      " [3.3872604 ]], shape=(3, 1), dtype=float32)\n"
     ]
    }
   ],
   "source": [
    "tfsm_layer = tf.keras.layers.TFSMLayer(\"my_keras_model\")\n",
    "y_pred_main, y_pred_aux = tfsm_layer((X_new_wide, X_new_deep))\n",
    "print(y_pred_main)"
   ]
  },
  {
   "cell_type": "code",
   "execution_count": 37,
   "id": "b6f438bb-1ed6-4e76-b06d-5f7636daf073",
   "metadata": {},
   "outputs": [],
   "source": [
    "model.load_weights(\"my_weights.weights.h5\")"
   ]
  },
  {
   "cell_type": "markdown",
   "id": "2af0574e-f7e3-4112-9ae9-112ded3981fb",
   "metadata": {},
   "source": [
    "To load a `.keras` model, use the `tf.keras.models.load_model()` function. If the model uses any custom object, you must pass them to the function via the `custom_objects` argument:"
   ]
  },
  {
   "cell_type": "code",
   "execution_count": 39,
   "id": "03d23601-0400-4feb-be5b-1e8ddeeacbb2",
   "metadata": {},
   "outputs": [],
   "source": [
    "loaded_model = tf.keras.models.load_model(\n",
    "    \"my_model.keras\",\n",
    "    custom_objects={\"WideAndDeepModel\": WideAndDeepModel}\n",
    ")"
   ]
  },
  {
   "cell_type": "code",
   "execution_count": null,
   "id": "f1a585c2-ee6c-43f1-b058-fd94c4b66e20",
   "metadata": {},
   "outputs": [],
   "source": []
  }
 ],
 "metadata": {
  "kernelspec": {
   "display_name": "Python 3 (ipykernel)",
   "language": "python",
   "name": "python3"
  },
  "language_info": {
   "codemirror_mode": {
    "name": "ipython",
    "version": 3
   },
   "file_extension": ".py",
   "mimetype": "text/x-python",
   "name": "python",
   "nbconvert_exporter": "python",
   "pygments_lexer": "ipython3",
   "version": "3.12.3"
  }
 },
 "nbformat": 4,
 "nbformat_minor": 5
}
