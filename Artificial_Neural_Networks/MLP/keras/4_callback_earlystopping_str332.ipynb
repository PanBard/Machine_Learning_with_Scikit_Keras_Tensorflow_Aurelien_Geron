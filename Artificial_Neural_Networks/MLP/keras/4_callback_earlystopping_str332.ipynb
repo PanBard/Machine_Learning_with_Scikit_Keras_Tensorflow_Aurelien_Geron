{
 "cells": [
  {
   "cell_type": "markdown",
   "id": "24048b67-7b7c-46d6-a74c-165a21b2c99a",
   "metadata": {},
   "source": [
    "## Using Callbacks"
   ]
  },
  {
   "cell_type": "code",
   "execution_count": 40,
   "id": "e63c729e-a5eb-4674-be11-de78a90107dc",
   "metadata": {},
   "outputs": [],
   "source": [
    "from sklearn.datasets import fetch_california_housing\n",
    "from sklearn.model_selection import train_test_split\n",
    "from sklearn.neural_network import MLPRegressor\n",
    "from sklearn.pipeline import make_pipeline\n",
    "from sklearn.preprocessing import StandardScaler\n"
   ]
  },
  {
   "cell_type": "code",
   "execution_count": 41,
   "id": "e1320c01-8ea8-4064-bd4b-34d7f427c7ce",
   "metadata": {},
   "outputs": [],
   "source": [
    "# extra code – load and split the California housing dataset, like earlier\n",
    "housing = fetch_california_housing()\n",
    "X_train_full, X_test, y_train_full, y_test = train_test_split(housing.data, housing.target, random_state=42)\n",
    "X_train, X_valid, y_train, y_valid = train_test_split(X_train_full, y_train_full, random_state=42)"
   ]
  },
  {
   "cell_type": "code",
   "execution_count": 42,
   "id": "0d908722-4a52-421b-a0d1-5bfbcdc4ad3c",
   "metadata": {},
   "outputs": [],
   "source": [
    "import tensorflow as tf\n",
    "\n",
    "tf.keras.backend.clear_session() # reset the name counters and make the code reproducible\n",
    "tf.random.set_seed(42)"
   ]
  },
  {
   "cell_type": "markdown",
   "id": "7ce11992-3295-4eb5-9dce-91211abb96be",
   "metadata": {},
   "source": [
    "## Using the Subclassing API to Build Dynamic Models - dla amatorów używania klas"
   ]
  },
  {
   "cell_type": "code",
   "execution_count": 45,
   "id": "a57fd5fb-7709-47f2-9e76-1cbdf5b3fad7",
   "metadata": {},
   "outputs": [],
   "source": [
    "class WideAndDeepModel(tf.keras.Model):\n",
    "    def __init__(self, units=30, activation=\"relu\", **kwargs):\n",
    "        super().__init__(**kwargs)  # needed to support naming the model\n",
    "        self.norm_layer_wide = tf.keras.layers.Normalization()\n",
    "        self.norm_layer_deep = tf.keras.layers.Normalization()\n",
    "        self.hidden1 = tf.keras.layers.Dense(units, activation=activation)\n",
    "        self.hidden2 = tf.keras.layers.Dense(units, activation=activation)\n",
    "        self.main_output = tf.keras.layers.Dense(1)\n",
    "        self.aux_output = tf.keras.layers.Dense(1)\n",
    "        \n",
    "    def call(self, inputs):\n",
    "        input_wide, input_deep = inputs\n",
    "        norm_wide = self.norm_layer_wide(input_wide)\n",
    "        norm_deep = self.norm_layer_deep(input_deep)\n",
    "        hidden1 = self.hidden1(norm_deep)\n",
    "        hidden2 = self.hidden2(hidden1)\n",
    "        concat = tf.keras.layers.concatenate([norm_wide, hidden2])\n",
    "        output = self.main_output(concat)\n",
    "        aux_output = self.aux_output(hidden2)\n",
    "        return output, aux_output\n",
    "\n",
    "tf.random.set_seed(42)  # extra code – just for reproducibility\n",
    "model = WideAndDeepModel(30, activation=\"relu\", name=\"my_cool_model\")"
   ]
  },
  {
   "cell_type": "code",
   "execution_count": 47,
   "id": "a4279a4c-9575-4eed-9b16-b90ec4d36eb7",
   "metadata": {},
   "outputs": [],
   "source": [
    "optimizer = tf.keras.optimizers.Adam(learning_rate=1e-3)\n",
    "model.compile(loss=[\"mse\", \"mse\"], loss_weights=[0.9, 0.1], optimizer=optimizer,\n",
    "              metrics=[\"RootMeanSquaredError\", \"RootMeanSquaredError\"])\n",
    "model.norm_layer_wide.adapt(X_train_wide)\n",
    "model.norm_layer_deep.adapt(X_train_deep)\n"
   ]
  },
  {
   "cell_type": "markdown",
   "id": "5b254b38-59a2-468d-813d-b1624d64354e",
   "metadata": {},
   "source": [
    "# callback - wywołania zwrotne\n",
    "## ModelCheckpoint - zapisuje punkty kontrolne modelu w regularnych odstępach czasu"
   ]
  },
  {
   "cell_type": "code",
   "execution_count": 52,
   "id": "012eff91-7c1a-45e0-9157-444889d0eee2",
   "metadata": {},
   "outputs": [],
   "source": [
    "import shutil\n",
    "shutil.rmtree(\"my_checkpoints\", ignore_errors=True)  # extra code"
   ]
  },
  {
   "cell_type": "code",
   "execution_count": 53,
   "id": "9df61d6a-531d-4556-9828-ea9fd2e528b2",
   "metadata": {},
   "outputs": [
    {
     "name": "stdout",
     "output_type": "stream",
     "text": [
      "Epoch 1/10\n",
      "\u001b[1m363/363\u001b[0m \u001b[32m━━━━━━━━━━━━━━━━━━━━\u001b[0m\u001b[37m\u001b[0m \u001b[1m2s\u001b[0m 5ms/step - RootMeanSquaredError: 0.5742 - RootMeanSquaredError_1: 0.6261 - loss: 0.3361 - mse_loss: 0.3920 - val_RootMeanSquaredError: 1.2195 - val_RootMeanSquaredError_1: 1.2357 - val_loss: 1.4912 - val_mse_loss: 1.5264\n",
      "Epoch 2/10\n",
      "\u001b[1m363/363\u001b[0m \u001b[32m━━━━━━━━━━━━━━━━━━━━\u001b[0m\u001b[37m\u001b[0m \u001b[1m2s\u001b[0m 4ms/step - RootMeanSquaredError: 0.5720 - RootMeanSquaredError_1: 0.6209 - loss: 0.3331 - mse_loss: 0.3856 - val_RootMeanSquaredError: 0.9584 - val_RootMeanSquaredError_1: 0.7122 - val_loss: 0.8774 - val_mse_loss: 0.5071\n",
      "Epoch 3/10\n",
      "\u001b[1m363/363\u001b[0m \u001b[32m━━━━━━━━━━━━━━━━━━━━\u001b[0m\u001b[37m\u001b[0m \u001b[1m1s\u001b[0m 4ms/step - RootMeanSquaredError: 0.5707 - RootMeanSquaredError_1: 0.6191 - loss: 0.3316 - mse_loss: 0.3834 - val_RootMeanSquaredError: 1.0384 - val_RootMeanSquaredError_1: 1.0120 - val_loss: 1.0729 - val_mse_loss: 1.0237\n",
      "Epoch 4/10\n",
      "\u001b[1m363/363\u001b[0m \u001b[32m━━━━━━━━━━━━━━━━━━━━\u001b[0m\u001b[37m\u001b[0m \u001b[1m2s\u001b[0m 4ms/step - RootMeanSquaredError: 0.5685 - RootMeanSquaredError_1: 0.6162 - loss: 0.3289 - mse_loss: 0.3798 - val_RootMeanSquaredError: 0.8598 - val_RootMeanSquaredError_1: 0.6626 - val_loss: 0.7093 - val_mse_loss: 0.4390\n",
      "Epoch 5/10\n",
      "\u001b[1m363/363\u001b[0m \u001b[32m━━━━━━━━━━━━━━━━━━━━\u001b[0m\u001b[37m\u001b[0m \u001b[1m1s\u001b[0m 4ms/step - RootMeanSquaredError: 0.5675 - RootMeanSquaredError_1: 0.6152 - loss: 0.3278 - mse_loss: 0.3785 - val_RootMeanSquaredError: 1.0417 - val_RootMeanSquaredError_1: 1.1894 - val_loss: 1.1181 - val_mse_loss: 1.4140\n",
      "Epoch 6/10\n",
      "\u001b[1m363/363\u001b[0m \u001b[32m━━━━━━━━━━━━━━━━━━━━\u001b[0m\u001b[37m\u001b[0m \u001b[1m2s\u001b[0m 4ms/step - RootMeanSquaredError: 0.5667 - RootMeanSquaredError_1: 0.6140 - loss: 0.3268 - mse_loss: 0.3771 - val_RootMeanSquaredError: 0.9071 - val_RootMeanSquaredError_1: 0.8221 - val_loss: 0.8081 - val_mse_loss: 0.6757\n",
      "Epoch 7/10\n",
      "\u001b[1m363/363\u001b[0m \u001b[32m━━━━━━━━━━━━━━━━━━━━\u001b[0m\u001b[37m\u001b[0m \u001b[1m2s\u001b[0m 5ms/step - RootMeanSquaredError: 0.5666 - RootMeanSquaredError_1: 0.6121 - loss: 0.3265 - mse_loss: 0.3747 - val_RootMeanSquaredError: 1.0461 - val_RootMeanSquaredError_1: 1.1031 - val_loss: 1.1067 - val_mse_loss: 1.2164\n",
      "Epoch 8/10\n",
      "\u001b[1m363/363\u001b[0m \u001b[32m━━━━━━━━━━━━━━━━━━━━\u001b[0m\u001b[37m\u001b[0m \u001b[1m1s\u001b[0m 4ms/step - RootMeanSquaredError: 0.5647 - RootMeanSquaredError_1: 0.6098 - loss: 0.3243 - mse_loss: 0.3719 - val_RootMeanSquaredError: 0.7513 - val_RootMeanSquaredError_1: 0.6653 - val_loss: 0.5523 - val_mse_loss: 0.4425\n",
      "Epoch 9/10\n",
      "\u001b[1m363/363\u001b[0m \u001b[32m━━━━━━━━━━━━━━━━━━━━\u001b[0m\u001b[37m\u001b[0m \u001b[1m1s\u001b[0m 4ms/step - RootMeanSquaredError: 0.5637 - RootMeanSquaredError_1: 0.6078 - loss: 0.3230 - mse_loss: 0.3695 - val_RootMeanSquaredError: 0.9378 - val_RootMeanSquaredError_1: 0.9935 - val_loss: 0.8903 - val_mse_loss: 0.9868\n",
      "Epoch 10/10\n",
      "\u001b[1m363/363\u001b[0m \u001b[32m━━━━━━━━━━━━━━━━━━━━\u001b[0m\u001b[37m\u001b[0m \u001b[1m1s\u001b[0m 4ms/step - RootMeanSquaredError: 0.5621 - RootMeanSquaredError_1: 0.6066 - loss: 0.3212 - mse_loss: 0.3681 - val_RootMeanSquaredError: 0.8096 - val_RootMeanSquaredError_1: 0.6978 - val_loss: 0.6386 - val_mse_loss: 0.4868\n"
     ]
    }
   ],
   "source": [
    "checkpoint_cb = tf.keras.callbacks.ModelCheckpoint(\"my_checkpoints.weights.h5\",\n",
    "                                                   save_weights_only=True)\n",
    "history = model.fit(\n",
    "    (X_train_wide, X_train_deep), (y_train, y_train), epochs=10,\n",
    "    validation_data=((X_valid_wide, X_valid_deep), (y_valid, y_valid)),\n",
    "    callbacks=[checkpoint_cb])"
   ]
  },
  {
   "cell_type": "markdown",
   "id": "83f13abd-be09-4cfc-bde1-aa71bd018cbc",
   "metadata": {},
   "source": [
    "**Warning**: as explained above, Keras now requires one loss and one metric per output, so I replaced `loss=\"mse\"` with `loss=[\"mse\", \"mse\"]` and I also replaced `metrics=[\"RootMeanSquaredError\"]` with `metrics=[\"RootMeanSquaredError\", \"RootMeanSquaredError\"]` in the code below."
   ]
  },
  {
   "cell_type": "markdown",
   "id": "aaf99ad8-c40c-42c7-8908-161a69ef3ec1",
   "metadata": {},
   "source": [
    "## EarlyStopping - przerywa proces uczenia w momencie gdy przez określoną liczbę epok (patience) nie ma poprawy na zbiorze walidacyjnym\n",
    "- restore_best_weights=True - po zakończeniu uczenia powróci do najlepszego modelu\n",
    "- dlatego można wybrać dużą liczbę epok, bo zatrzyma się automatycznie"
   ]
  },
  {
   "cell_type": "code",
   "execution_count": 54,
   "id": "6fc6e0c0-694e-46d7-a9e4-47f158d04657",
   "metadata": {
    "scrolled": true
   },
   "outputs": [
    {
     "name": "stdout",
     "output_type": "stream",
     "text": [
      "Epoch 1/100\n",
      "\u001b[1m363/363\u001b[0m \u001b[32m━━━━━━━━━━━━━━━━━━━━\u001b[0m\u001b[37m\u001b[0m \u001b[1m1s\u001b[0m 4ms/step - RootMeanSquaredError: 0.5619 - RootMeanSquaredError_1: 0.6056 - loss: 0.3209 - mse_loss: 0.3669 - val_RootMeanSquaredError: 0.9112 - val_RootMeanSquaredError_1: 0.9379 - val_loss: 0.8353 - val_mse_loss: 0.8793\n",
      "Epoch 2/100\n",
      "\u001b[1m363/363\u001b[0m \u001b[32m━━━━━━━━━━━━━━━━━━━━\u001b[0m\u001b[37m\u001b[0m \u001b[1m2s\u001b[0m 4ms/step - RootMeanSquaredError: 0.5594 - RootMeanSquaredError_1: 0.6032 - loss: 0.3181 - mse_loss: 0.3639 - val_RootMeanSquaredError: 0.6030 - val_RootMeanSquaredError_1: 0.5991 - val_loss: 0.3631 - val_mse_loss: 0.3589\n",
      "Epoch 3/100\n",
      "\u001b[1m363/363\u001b[0m \u001b[32m━━━━━━━━━━━━━━━━━━━━\u001b[0m\u001b[37m\u001b[0m \u001b[1m1s\u001b[0m 4ms/step - RootMeanSquaredError: 0.5582 - RootMeanSquaredError_1: 0.6050 - loss: 0.3171 - mse_loss: 0.3661 - val_RootMeanSquaredError: 0.7275 - val_RootMeanSquaredError_1: 0.8142 - val_loss: 0.5426 - val_mse_loss: 0.6627\n",
      "Epoch 4/100\n",
      "\u001b[1m363/363\u001b[0m \u001b[32m━━━━━━━━━━━━━━━━━━━━\u001b[0m\u001b[37m\u001b[0m \u001b[1m1s\u001b[0m 4ms/step - RootMeanSquaredError: 0.5572 - RootMeanSquaredError_1: 0.5991 - loss: 0.3154 - mse_loss: 0.3590 - val_RootMeanSquaredError: 0.6125 - val_RootMeanSquaredError_1: 0.6338 - val_loss: 0.3778 - val_mse_loss: 0.4017\n",
      "Epoch 5/100\n",
      "\u001b[1m363/363\u001b[0m \u001b[32m━━━━━━━━━━━━━━━━━━━━\u001b[0m\u001b[37m\u001b[0m \u001b[1m1s\u001b[0m 4ms/step - RootMeanSquaredError: 0.5560 - RootMeanSquaredError_1: 0.6012 - loss: 0.3144 - mse_loss: 0.3616 - val_RootMeanSquaredError: 0.7283 - val_RootMeanSquaredError_1: 0.8495 - val_loss: 0.5496 - val_mse_loss: 0.7215\n",
      "Epoch 6/100\n",
      "\u001b[1m363/363\u001b[0m \u001b[32m━━━━━━━━━━━━━━━━━━━━\u001b[0m\u001b[37m\u001b[0m \u001b[1m1s\u001b[0m 4ms/step - RootMeanSquaredError: 0.5559 - RootMeanSquaredError_1: 0.5965 - loss: 0.3138 - mse_loss: 0.3559 - val_RootMeanSquaredError: 0.9600 - val_RootMeanSquaredError_1: 0.6323 - val_loss: 0.8693 - val_mse_loss: 0.3997\n",
      "Epoch 7/100\n",
      "\u001b[1m363/363\u001b[0m \u001b[32m━━━━━━━━━━━━━━━━━━━━\u001b[0m\u001b[37m\u001b[0m \u001b[1m1s\u001b[0m 4ms/step - RootMeanSquaredError: 0.5569 - RootMeanSquaredError_1: 0.5971 - loss: 0.3148 - mse_loss: 0.3567 - val_RootMeanSquaredError: 0.9301 - val_RootMeanSquaredError_1: 0.8760 - val_loss: 0.8553 - val_mse_loss: 0.7672\n",
      "Epoch 8/100\n",
      "\u001b[1m363/363\u001b[0m \u001b[32m━━━━━━━━━━━━━━━━━━━━\u001b[0m\u001b[37m\u001b[0m \u001b[1m2s\u001b[0m 4ms/step - RootMeanSquaredError: 0.5554 - RootMeanSquaredError_1: 0.5991 - loss: 0.3135 - mse_loss: 0.3591 - val_RootMeanSquaredError: 0.6178 - val_RootMeanSquaredError_1: 0.5983 - val_loss: 0.3793 - val_mse_loss: 0.3580\n",
      "Epoch 9/100\n",
      "\u001b[1m363/363\u001b[0m \u001b[32m━━━━━━━━━━━━━━━━━━━━\u001b[0m\u001b[37m\u001b[0m \u001b[1m2s\u001b[0m 5ms/step - RootMeanSquaredError: 0.5529 - RootMeanSquaredError_1: 0.5931 - loss: 0.3104 - mse_loss: 0.3519 - val_RootMeanSquaredError: 0.8178 - val_RootMeanSquaredError_1: 0.8603 - val_loss: 0.6759 - val_mse_loss: 0.7398\n",
      "Epoch 10/100\n",
      "\u001b[1m363/363\u001b[0m \u001b[32m━━━━━━━━━━━━━━━━━━━━\u001b[0m\u001b[37m\u001b[0m \u001b[1m1s\u001b[0m 4ms/step - RootMeanSquaredError: 0.5527 - RootMeanSquaredError_1: 0.5932 - loss: 0.3102 - mse_loss: 0.3519 - val_RootMeanSquaredError: 0.8620 - val_RootMeanSquaredError_1: 0.7402 - val_loss: 0.7236 - val_mse_loss: 0.5478\n",
      "Epoch 11/100\n",
      "\u001b[1m363/363\u001b[0m \u001b[32m━━━━━━━━━━━━━━━━━━━━\u001b[0m\u001b[37m\u001b[0m \u001b[1m1s\u001b[0m 4ms/step - RootMeanSquaredError: 0.5543 - RootMeanSquaredError_1: 0.5975 - loss: 0.3123 - mse_loss: 0.3571 - val_RootMeanSquaredError: 0.7379 - val_RootMeanSquaredError_1: 0.7768 - val_loss: 0.5504 - val_mse_loss: 0.6032\n",
      "Epoch 12/100\n",
      "\u001b[1m363/363\u001b[0m \u001b[32m━━━━━━━━━━━━━━━━━━━━\u001b[0m\u001b[37m\u001b[0m \u001b[1m1s\u001b[0m 4ms/step - RootMeanSquaredError: 0.5505 - RootMeanSquaredError_1: 0.5896 - loss: 0.3076 - mse_loss: 0.3477 - val_RootMeanSquaredError: 0.5428 - val_RootMeanSquaredError_1: 0.5988 - val_loss: 0.3010 - val_mse_loss: 0.3586\n",
      "Epoch 13/100\n",
      "\u001b[1m363/363\u001b[0m \u001b[32m━━━━━━━━━━━━━━━━━━━━\u001b[0m\u001b[37m\u001b[0m \u001b[1m2s\u001b[0m 4ms/step - RootMeanSquaredError: 0.5495 - RootMeanSquaredError_1: 0.5893 - loss: 0.3065 - mse_loss: 0.3474 - val_RootMeanSquaredError: 0.5821 - val_RootMeanSquaredError_1: 0.6394 - val_loss: 0.3459 - val_mse_loss: 0.4088\n",
      "Epoch 14/100\n",
      "\u001b[1m363/363\u001b[0m \u001b[32m━━━━━━━━━━━━━━━━━━━━\u001b[0m\u001b[37m\u001b[0m \u001b[1m2s\u001b[0m 4ms/step - RootMeanSquaredError: 0.5489 - RootMeanSquaredError_1: 0.5891 - loss: 0.3059 - mse_loss: 0.3471 - val_RootMeanSquaredError: 0.5376 - val_RootMeanSquaredError_1: 0.5888 - val_loss: 0.2948 - val_mse_loss: 0.3467\n",
      "Epoch 15/100\n",
      "\u001b[1m363/363\u001b[0m \u001b[32m━━━━━━━━━━━━━━━━━━━━\u001b[0m\u001b[37m\u001b[0m \u001b[1m2s\u001b[0m 4ms/step - RootMeanSquaredError: 0.5492 - RootMeanSquaredError_1: 0.5903 - loss: 0.3063 - mse_loss: 0.3485 - val_RootMeanSquaredError: 0.5677 - val_RootMeanSquaredError_1: 0.6749 - val_loss: 0.3356 - val_mse_loss: 0.4554\n",
      "Epoch 16/100\n",
      "\u001b[1m363/363\u001b[0m \u001b[32m━━━━━━━━━━━━━━━━━━━━\u001b[0m\u001b[37m\u001b[0m \u001b[1m2s\u001b[0m 4ms/step - RootMeanSquaredError: 0.5476 - RootMeanSquaredError_1: 0.5858 - loss: 0.3043 - mse_loss: 0.3432 - val_RootMeanSquaredError: 0.5787 - val_RootMeanSquaredError_1: 0.5882 - val_loss: 0.3360 - val_mse_loss: 0.3459\n",
      "Epoch 17/100\n",
      "\u001b[1m363/363\u001b[0m \u001b[32m━━━━━━━━━━━━━━━━━━━━\u001b[0m\u001b[37m\u001b[0m \u001b[1m2s\u001b[0m 4ms/step - RootMeanSquaredError: 0.5483 - RootMeanSquaredError_1: 0.5890 - loss: 0.3053 - mse_loss: 0.3470 - val_RootMeanSquaredError: 0.5889 - val_RootMeanSquaredError_1: 0.6840 - val_loss: 0.3589 - val_mse_loss: 0.4677\n",
      "Epoch 18/100\n",
      "\u001b[1m363/363\u001b[0m \u001b[32m━━━━━━━━━━━━━━━━━━━━\u001b[0m\u001b[37m\u001b[0m \u001b[1m2s\u001b[0m 4ms/step - RootMeanSquaredError: 0.5463 - RootMeanSquaredError_1: 0.5842 - loss: 0.3028 - mse_loss: 0.3414 - val_RootMeanSquaredError: 0.6315 - val_RootMeanSquaredError_1: 0.5908 - val_loss: 0.3938 - val_mse_loss: 0.3491\n",
      "Epoch 19/100\n",
      "\u001b[1m363/363\u001b[0m \u001b[32m━━━━━━━━━━━━━━━━━━━━\u001b[0m\u001b[37m\u001b[0m \u001b[1m2s\u001b[0m 4ms/step - RootMeanSquaredError: 0.5462 - RootMeanSquaredError_1: 0.5843 - loss: 0.3027 - mse_loss: 0.3415 - val_RootMeanSquaredError: 1.0139 - val_RootMeanSquaredError_1: 1.0863 - val_loss: 1.0431 - val_mse_loss: 1.1796\n",
      "Epoch 20/100\n",
      "\u001b[1m363/363\u001b[0m \u001b[32m━━━━━━━━━━━━━━━━━━━━\u001b[0m\u001b[37m\u001b[0m \u001b[1m2s\u001b[0m 4ms/step - RootMeanSquaredError: 0.5473 - RootMeanSquaredError_1: 0.5852 - loss: 0.3039 - mse_loss: 0.3426 - val_RootMeanSquaredError: 0.8460 - val_RootMeanSquaredError_1: 0.8149 - val_loss: 0.7106 - val_mse_loss: 0.6639\n",
      "Epoch 21/100\n",
      "\u001b[1m363/363\u001b[0m \u001b[32m━━━━━━━━━━━━━━━━━━━━\u001b[0m\u001b[37m\u001b[0m \u001b[1m2s\u001b[0m 4ms/step - RootMeanSquaredError: 0.5475 - RootMeanSquaredError_1: 0.5853 - loss: 0.3041 - mse_loss: 0.3427 - val_RootMeanSquaredError: 0.7719 - val_RootMeanSquaredError_1: 0.9327 - val_loss: 0.6233 - val_mse_loss: 0.8697\n",
      "Epoch 22/100\n",
      "\u001b[1m363/363\u001b[0m \u001b[32m━━━━━━━━━━━━━━━━━━━━\u001b[0m\u001b[37m\u001b[0m \u001b[1m2s\u001b[0m 5ms/step - RootMeanSquaredError: 0.5444 - RootMeanSquaredError_1: 0.5823 - loss: 0.3007 - mse_loss: 0.3392 - val_RootMeanSquaredError: 0.5342 - val_RootMeanSquaredError_1: 0.5823 - val_loss: 0.2907 - val_mse_loss: 0.3391\n",
      "Epoch 23/100\n",
      "\u001b[1m363/363\u001b[0m \u001b[32m━━━━━━━━━━━━━━━━━━━━\u001b[0m\u001b[37m\u001b[0m \u001b[1m2s\u001b[0m 4ms/step - RootMeanSquaredError: 0.5446 - RootMeanSquaredError_1: 0.5831 - loss: 0.3010 - mse_loss: 0.3401 - val_RootMeanSquaredError: 0.6103 - val_RootMeanSquaredError_1: 0.6735 - val_loss: 0.3806 - val_mse_loss: 0.4535\n",
      "Epoch 24/100\n",
      "\u001b[1m363/363\u001b[0m \u001b[32m━━━━━━━━━━━━━━━━━━━━\u001b[0m\u001b[37m\u001b[0m \u001b[1m2s\u001b[0m 4ms/step - RootMeanSquaredError: 0.5444 - RootMeanSquaredError_1: 0.5809 - loss: 0.3005 - mse_loss: 0.3375 - val_RootMeanSquaredError: 0.5334 - val_RootMeanSquaredError_1: 0.6013 - val_loss: 0.2922 - val_mse_loss: 0.3616\n",
      "Epoch 25/100\n",
      "\u001b[1m363/363\u001b[0m \u001b[32m━━━━━━━━━━━━━━━━━━━━\u001b[0m\u001b[37m\u001b[0m \u001b[1m2s\u001b[0m 5ms/step - RootMeanSquaredError: 0.5424 - RootMeanSquaredError_1: 0.5804 - loss: 0.2986 - mse_loss: 0.3369 - val_RootMeanSquaredError: 0.6147 - val_RootMeanSquaredError_1: 0.6822 - val_loss: 0.3866 - val_mse_loss: 0.4653\n",
      "Epoch 26/100\n",
      "\u001b[1m363/363\u001b[0m \u001b[32m━━━━━━━━━━━━━━━━━━━━\u001b[0m\u001b[37m\u001b[0m \u001b[1m2s\u001b[0m 4ms/step - RootMeanSquaredError: 0.5420 - RootMeanSquaredError_1: 0.5788 - loss: 0.2979 - mse_loss: 0.3352 - val_RootMeanSquaredError: 0.5336 - val_RootMeanSquaredError_1: 0.6851 - val_loss: 0.3032 - val_mse_loss: 0.4692\n",
      "Epoch 27/100\n",
      "\u001b[1m363/363\u001b[0m \u001b[32m━━━━━━━━━━━━━━━━━━━━\u001b[0m\u001b[37m\u001b[0m \u001b[1m1s\u001b[0m 4ms/step - RootMeanSquaredError: 0.5422 - RootMeanSquaredError_1: 0.5802 - loss: 0.2983 - mse_loss: 0.3368 - val_RootMeanSquaredError: 0.6023 - val_RootMeanSquaredError_1: 0.6024 - val_loss: 0.3628 - val_mse_loss: 0.3628\n",
      "Epoch 28/100\n",
      "\u001b[1m363/363\u001b[0m \u001b[32m━━━━━━━━━━━━━━━━━━━━\u001b[0m\u001b[37m\u001b[0m \u001b[1m1s\u001b[0m 4ms/step - RootMeanSquaredError: 0.5414 - RootMeanSquaredError_1: 0.5786 - loss: 0.2974 - mse_loss: 0.3349 - val_RootMeanSquaredError: 0.5795 - val_RootMeanSquaredError_1: 0.5788 - val_loss: 0.3357 - val_mse_loss: 0.3350\n",
      "Epoch 29/100\n",
      "\u001b[1m363/363\u001b[0m \u001b[32m━━━━━━━━━━━━━━━━━━━━\u001b[0m\u001b[37m\u001b[0m \u001b[1m1s\u001b[0m 4ms/step - RootMeanSquaredError: 0.5408 - RootMeanSquaredError_1: 0.5779 - loss: 0.2967 - mse_loss: 0.3341 - val_RootMeanSquaredError: 0.7803 - val_RootMeanSquaredError_1: 0.7767 - val_loss: 0.6083 - val_mse_loss: 0.6031\n",
      "Epoch 30/100\n",
      "\u001b[1m363/363\u001b[0m \u001b[32m━━━━━━━━━━━━━━━━━━━━\u001b[0m\u001b[37m\u001b[0m \u001b[1m1s\u001b[0m 4ms/step - RootMeanSquaredError: 0.5413 - RootMeanSquaredError_1: 0.5785 - loss: 0.2973 - mse_loss: 0.3348 - val_RootMeanSquaredError: 0.5933 - val_RootMeanSquaredError_1: 0.5908 - val_loss: 0.3517 - val_mse_loss: 0.3491\n",
      "Epoch 31/100\n",
      "\u001b[1m363/363\u001b[0m \u001b[32m━━━━━━━━━━━━━━━━━━━━\u001b[0m\u001b[37m\u001b[0m \u001b[1m1s\u001b[0m 4ms/step - RootMeanSquaredError: 0.5395 - RootMeanSquaredError_1: 0.5771 - loss: 0.2953 - mse_loss: 0.3331 - val_RootMeanSquaredError: 0.8901 - val_RootMeanSquaredError_1: 1.1509 - val_loss: 0.8455 - val_mse_loss: 1.3241\n",
      "Epoch 32/100\n",
      "\u001b[1m363/363\u001b[0m \u001b[32m━━━━━━━━━━━━━━━━━━━━\u001b[0m\u001b[37m\u001b[0m \u001b[1m2s\u001b[0m 5ms/step - RootMeanSquaredError: 0.5395 - RootMeanSquaredError_1: 0.5781 - loss: 0.2954 - mse_loss: 0.3343 - val_RootMeanSquaredError: 0.5701 - val_RootMeanSquaredError_1: 0.6814 - val_loss: 0.3390 - val_mse_loss: 0.4642\n"
     ]
    }
   ],
   "source": [
    "early_stopping_cb = tf.keras.callbacks.EarlyStopping(patience=10,restore_best_weights=True)\n",
    "history = model.fit(\n",
    "    (X_train_wide, X_train_deep), (y_train, y_train), epochs=100,\n",
    "    validation_data=((X_valid_wide, X_valid_deep), (y_valid, y_valid)),\n",
    "    callbacks=[checkpoint_cb, early_stopping_cb])"
   ]
  },
  {
   "cell_type": "markdown",
   "id": "2f296ee8-eea9-4cbf-885e-eb515950874e",
   "metadata": {},
   "source": [
    "# Definiowanie własnych wywołań zwrotnych"
   ]
  },
  {
   "cell_type": "code",
   "execution_count": 57,
   "id": "066682c4-5014-4d42-a5b2-ee910cd77976",
   "metadata": {},
   "outputs": [],
   "source": [
    "# własne wywołanie - stosunek pomiędzy funkcją straty dla zestawu walidacyjnego a uczącym\n",
    "class PrintValTrainRatioCallback(tf.keras.callbacks.Callback):\n",
    "    def on_epoch_end(self, epoch, logs):\n",
    "        ratio = logs[\"val_loss\"] / logs[\"loss\"]\n",
    "        print(f\"Epoch={epoch}, val/train={ratio:.2f}\")"
   ]
  },
  {
   "cell_type": "code",
   "execution_count": 56,
   "id": "8b2187e2-7d17-48ee-ad6f-52430eaa44df",
   "metadata": {},
   "outputs": [
    {
     "name": "stdout",
     "output_type": "stream",
     "text": [
      "Epoch=0, val/train=1.32\n",
      "Epoch=1, val/train=1.02\n",
      "Epoch=2, val/train=1.56\n",
      "Epoch=3, val/train=1.00\n",
      "Epoch=4, val/train=1.49\n",
      "Epoch=5, val/train=1.13\n",
      "Epoch=6, val/train=1.79\n",
      "Epoch=7, val/train=0.98\n",
      "Epoch=8, val/train=1.35\n",
      "Epoch=9, val/train=1.36\n"
     ]
    }
   ],
   "source": [
    "val_train_ratio_cb = PrintValTrainRatioCallback()\n",
    "history = model.fit(\n",
    "    (X_train_wide, X_train_deep), (y_train, y_train), epochs=10,\n",
    "    validation_data=((X_valid_wide, X_valid_deep), (y_valid, y_valid)),\n",
    "    callbacks=[val_train_ratio_cb], verbose=0)"
   ]
  },
  {
   "cell_type": "code",
   "execution_count": null,
   "id": "e9238027-2582-415f-817b-6b4c3c484b38",
   "metadata": {},
   "outputs": [],
   "source": []
  }
 ],
 "metadata": {
  "kernelspec": {
   "display_name": "Python 3 (ipykernel)",
   "language": "python",
   "name": "python3"
  },
  "language_info": {
   "codemirror_mode": {
    "name": "ipython",
    "version": 3
   },
   "file_extension": ".py",
   "mimetype": "text/x-python",
   "name": "python",
   "nbconvert_exporter": "python",
   "pygments_lexer": "ipython3",
   "version": "3.12.3"
  }
 },
 "nbformat": 4,
 "nbformat_minor": 5
}
